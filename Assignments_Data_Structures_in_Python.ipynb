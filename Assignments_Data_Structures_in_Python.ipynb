{
  "nbformat": 4,
  "nbformat_minor": 0,
  "metadata": {
    "colab": {
      "provenance": [],
      "toc_visible": true
    },
    "kernelspec": {
      "name": "python3",
      "display_name": "Python 3"
    },
    "language_info": {
      "name": "python"
    }
  },
  "cells": [
    {
      "cell_type": "markdown",
      "source": [
        "**Assignments: Data\n",
        "Structures in Python**"
      ],
      "metadata": {
        "id": "7TeIYF9IMESo"
      }
    },
    {
      "cell_type": "markdown",
      "source": [
        "**Question-1 Write a code to reverse a string**\n",
        "\n",
        "Answer\n",
        "This is a code to reverse a string in python.\n",
        "\n"
      ],
      "metadata": {
        "id": "4bpQjEELMQHJ"
      }
    },
    {
      "cell_type": "code",
      "source": [
        "def reverse_string(s):\n",
        "    reversed_s = \"\"\n",
        "    for char in s:\n",
        "        reversed_s = char + reversed_s\n",
        "    return reversed_s\n",
        "\n",
        "# Test the function\n",
        "print(reverse_string(\"Hello World\"))\n"
      ],
      "metadata": {
        "colab": {
          "base_uri": "https://localhost:8080/"
        },
        "id": "KpotBF4qNKGY",
        "outputId": "5c894f11-0d2d-4e64-fab8-4aa4842d21f7"
      },
      "execution_count": 6,
      "outputs": [
        {
          "output_type": "stream",
          "name": "stdout",
          "text": [
            "dlroW olleH\n"
          ]
        }
      ]
    },
    {
      "cell_type": "markdown",
      "source": [
        "**Question-2  Write a code to count the number of vowels in a string.**\n",
        "\n",
        "Answer\n",
        "\n",
        "A code to count the number of vowels in a string\n",
        "\n",
        "using a loop\n"
      ],
      "metadata": {
        "id": "t-24J8N_Ogw1"
      }
    },
    {
      "cell_type": "code",
      "source": [
        "def count_vowels(s):\n",
        "    vowels = \"aeiouAEIOU\"\n",
        "    count = 0\n",
        "    for char in s:\n",
        "        if char in vowels:\n",
        "            count += 1\n",
        "    return count\n",
        "\n",
        "# Test the function\n",
        "print(count_vowels(\"Hello World\"))"
      ],
      "metadata": {
        "colab": {
          "base_uri": "https://localhost:8080/"
        },
        "id": "rLC7wDl9ONYj",
        "outputId": "6ddb60c1-f177-46ca-8488-738c730d8668"
      },
      "execution_count": 7,
      "outputs": [
        {
          "output_type": "stream",
          "name": "stdout",
          "text": [
            "3\n"
          ]
        }
      ]
    },
    {
      "cell_type": "markdown",
      "source": [
        "**Question-3  Write a code to check if a given string is a palindrome or not.**\n",
        "\n",
        "\n",
        "Answer\n",
        "\n",
        "A code to check if a given string is a palindrome or not."
      ],
      "metadata": {
        "id": "BqcqZMPYPK7t"
      }
    },
    {
      "cell_type": "code",
      "source": [
        "def is_palindrome(s):\n",
        "    s = s.lower()  # Convert to lowercase\n",
        "    return s == s[::-1]  # Compare with reversed string\n",
        "\n",
        "# Test the function\n",
        "print(is_palindrome(\"radar\"))\n",
        "print(is_palindrome(\"hello\"))\n"
      ],
      "metadata": {
        "colab": {
          "base_uri": "https://localhost:8080/"
        },
        "id": "GB2q4wbMPHYP",
        "outputId": "a0396398-fa75-40fa-db6a-be103d57b972"
      },
      "execution_count": 8,
      "outputs": [
        {
          "output_type": "stream",
          "name": "stdout",
          "text": [
            "True\n",
            "False\n"
          ]
        }
      ]
    },
    {
      "cell_type": "markdown",
      "source": [
        "**Question-4 Write a code to check if two given strings are anagrams of each other.**\n",
        "\n",
        "Answer\n",
        "\n"
      ],
      "metadata": {
        "id": "rFXNj23JP-jD"
      }
    },
    {
      "cell_type": "code",
      "source": [
        "def are_anagrams(str1, str2):\n",
        "    # Convert to lowercase and remove spaces\n",
        "    str1 = str1.replace(\" \", \"\").lower()\n",
        "    str2 = str2.replace(\" \", \"\").lower()\n",
        "\n",
        "    # Check if sorted strings are equal\n",
        "    return sorted(str1) == sorted(str2)\n",
        "\n",
        "# Test the function\n",
        "print(are_anagrams(\"listen\", \"silent\"))\n",
        "print(are_anagrams(\"hello\", \"world\"))\n"
      ],
      "metadata": {
        "colab": {
          "base_uri": "https://localhost:8080/"
        },
        "id": "1AI_kTUfPsyo",
        "outputId": "2d06f5db-7984-4bf7-9db9-0c6bb443906e"
      },
      "execution_count": 9,
      "outputs": [
        {
          "output_type": "stream",
          "name": "stdout",
          "text": [
            "True\n",
            "False\n"
          ]
        }
      ]
    },
    {
      "cell_type": "markdown",
      "source": [
        "**Question-5 Write a code to find all occurences of a given substring within another string.**\n",
        "\n",
        "Answer\n",
        "\n"
      ],
      "metadata": {
        "id": "GzrZgSk5QaWs"
      }
    },
    {
      "cell_type": "code",
      "source": [
        "def find_substring(main_string, sub_string):\n",
        "    # Initialize index and list to store occurrences\n",
        "    index = 0\n",
        "    occurrences = []\n",
        "\n",
        "    # Loop until substring is not found\n",
        "    while True:\n",
        "        index = main_string.find(sub_string, index)\n",
        "        if index == -1:\n",
        "            break\n",
        "        occurrences.append(index)\n",
        "        index += len(sub_string)\n",
        "\n",
        "    return occurrences\n",
        "\n",
        "# Test the function\n",
        "main_string = \"Hello, world. Hello again.\"\n",
        "sub_string = \"Hello\"\n",
        "print(find_substring(main_string, sub_string))\n"
      ],
      "metadata": {
        "colab": {
          "base_uri": "https://localhost:8080/"
        },
        "id": "qqheeSwBQYjG",
        "outputId": "c5d54aea-56c1-4703-82b7-dc86b86317b2"
      },
      "execution_count": 10,
      "outputs": [
        {
          "output_type": "stream",
          "name": "stdout",
          "text": [
            "[0, 14]\n"
          ]
        }
      ]
    },
    {
      "cell_type": "markdown",
      "source": [
        "**Question-6 Write a code to perform basic string compression using the counts of repeated character.**\n",
        "\n",
        "Answer\n",
        "\n",
        "A Python code snippet to perform basic string compression using the counts of repeated characters:\n"
      ],
      "metadata": {
        "id": "N5u83QAgQ5Cn"
      }
    },
    {
      "cell_type": "code",
      "source": [
        "def compress_string(input_str):\n",
        "    \"\"\"\n",
        "    Compresses a string by replacing repeated characters with the character and its count.\n",
        "\n",
        "    Args:\n",
        "        input_str (str): The input string to compress.\n",
        "\n",
        "    Returns:\n",
        "        str: The compressed string.\n",
        "    \"\"\"\n",
        "    if not input_str:\n",
        "        return \"\"\n",
        "\n",
        "    compressed_str = \"\"\n",
        "    count = 1\n",
        "\n",
        "    for i in range(1, len(input_str)):\n",
        "        if input_str[i] == input_str[i - 1]:\n",
        "            count += 1\n",
        "        else:\n",
        "            compressed_str += input_str[i - 1] + str(count)\n",
        "            count = 1\n",
        "\n",
        "    compressed_str += input_str[-1] + str(count)\n",
        "    return compressed_str\n",
        "\n",
        "# Test the function\n",
        "input_str = \"AAABBBCCCDDDD\"\n",
        "print(compress_string(input_str))\n"
      ],
      "metadata": {
        "colab": {
          "base_uri": "https://localhost:8080/"
        },
        "id": "rqLV8LhZQ3Oe",
        "outputId": "cd907023-7039-4880-ec9f-9b5bccfac4a1"
      },
      "execution_count": 11,
      "outputs": [
        {
          "output_type": "stream",
          "name": "stdout",
          "text": [
            "A3B3C3D4\n"
          ]
        }
      ]
    },
    {
      "cell_type": "markdown",
      "source": [
        "**Queston-7 Write a code to determine if a string has all unique character.**\n",
        "\n",
        "Answer\n",
        "\n"
      ],
      "metadata": {
        "id": "sHHzXq1SRjwU"
      }
    },
    {
      "cell_type": "code",
      "source": [
        "def has_unique_chars(input_str):\n",
        "    \"\"\"\n",
        "    Checks if a string has all unique characters.\n",
        "\n",
        "    Args:\n",
        "        input_str (str): The input string to check.\n",
        "\n",
        "    Returns:\n",
        "        bool: True if the string has all unique characters, False otherwise.\n",
        "    \"\"\"\n",
        "    return len(set(input_str)) == len(input_str)\n",
        "\n",
        "# Test the function\n",
        "print(has_unique_chars(\"abcdefg\"))\n",
        "print(has_unique_chars(\"aabbcc\"))\n"
      ],
      "metadata": {
        "colab": {
          "base_uri": "https://localhost:8080/"
        },
        "id": "bGOFNbuoRd7B",
        "outputId": "c1dd8ae7-8528-4b35-9ca8-765231fb72bb"
      },
      "execution_count": 12,
      "outputs": [
        {
          "output_type": "stream",
          "name": "stdout",
          "text": [
            "True\n",
            "False\n"
          ]
        }
      ]
    },
    {
      "cell_type": "markdown",
      "source": [
        "**Question-8 Write a code to convert a given string to uppercase or lowercase.**\n",
        "\n",
        "Answer\n",
        "\n"
      ],
      "metadata": {
        "id": "a6tXYCUESHzN"
      }
    },
    {
      "cell_type": "code",
      "source": [
        "def convert_case(input_str, case):\n",
        "    \"\"\"\n",
        "    Converts a string to uppercase or lowercase.\n",
        "\n",
        "    Args:\n",
        "        input_str (str): The input string to convert.\n",
        "        case (str): 'upper' or 'lower' to specify the conversion.\n",
        "\n",
        "    Returns:\n",
        "        str: The converted string.\n",
        "    \"\"\"\n",
        "    if case == 'upper':\n",
        "        return input_str.upper()\n",
        "    elif case == 'lower':\n",
        "        return input_str.lower()\n",
        "    else:\n",
        "        raise ValueError(\"Invalid case. Please specify 'upper' or 'lower'.\")\n",
        "\n",
        "# Test the function\n",
        "input_str = \"Hello World\"\n",
        "print(convert_case(input_str, 'upper'))\n",
        "print(convert_case(input_str, 'lower'))\n"
      ],
      "metadata": {
        "colab": {
          "base_uri": "https://localhost:8080/"
        },
        "id": "HtciE4P9R8qz",
        "outputId": "11a6501d-3401-4ce1-97f4-6ee6e8651b8e"
      },
      "execution_count": 16,
      "outputs": [
        {
          "output_type": "stream",
          "name": "stdout",
          "text": [
            "HELLO WORLD\n",
            "hello world\n"
          ]
        }
      ]
    },
    {
      "cell_type": "code",
      "source": [
        "#you can use the built-in string methods directly\n",
        "input_str = \"Hello World\"\n",
        "print(input_str.upper())\n",
        "print(input_str.lower())\n"
      ],
      "metadata": {
        "colab": {
          "base_uri": "https://localhost:8080/"
        },
        "id": "dtWC_JL1Sf_Y",
        "outputId": "0622a443-8c8a-403d-ff43-ccf8d30f966d"
      },
      "execution_count": 18,
      "outputs": [
        {
          "output_type": "stream",
          "name": "stdout",
          "text": [
            "HELLO WORLD\n",
            "hello world\n"
          ]
        }
      ]
    },
    {
      "cell_type": "markdown",
      "source": [
        "**Question-9 Write a code to count the number of words in a string.**\n",
        "\n",
        "\n",
        "Answer\n",
        "\n"
      ],
      "metadata": {
        "id": "n4cRswBrTFT1"
      }
    },
    {
      "cell_type": "code",
      "source": [
        "def count_words(input_str):\n",
        "    \"\"\"\n",
        "    Counts the number of words in a string.\n",
        "\n",
        "    Args:\n",
        "        input_str (str): The input string.\n",
        "\n",
        "    Returns:\n",
        "        int: The number of words in the string.\n",
        "    \"\"\"\n",
        "    words = input_str.split()\n",
        "    return len(words)\n",
        "\n",
        "# Test the function\n",
        "input_str = \"Hello World, this is a test string.\"\n",
        "print(count_words(input_str))  # Output: 8\n",
        "\n"
      ],
      "metadata": {
        "colab": {
          "base_uri": "https://localhost:8080/"
        },
        "id": "-hSHAoScS6A9",
        "outputId": "8552edaf-4f32-4b92-ce51-58aff92463ef"
      },
      "execution_count": 19,
      "outputs": [
        {
          "output_type": "stream",
          "name": "stdout",
          "text": [
            "7\n"
          ]
        }
      ]
    },
    {
      "cell_type": "code",
      "source": [
        "# Alternatively, you can use the len() function with split()\n",
        "input_str = \"Hello World, this is a test string.\"\n",
        "print(len(input_str.split()))\n"
      ],
      "metadata": {
        "colab": {
          "base_uri": "https://localhost:8080/"
        },
        "id": "URE22kG3TcYd",
        "outputId": "209ce7dd-3f9c-4f63-a96d-06e715a2e023"
      },
      "execution_count": 20,
      "outputs": [
        {
          "output_type": "stream",
          "name": "stdout",
          "text": [
            "7\n"
          ]
        }
      ]
    },
    {
      "cell_type": "markdown",
      "source": [
        "**Question-10 Write a code to concatenate two strings without usind the + operator.**\n",
        "\n",
        "Answer\n",
        "\n"
      ],
      "metadata": {
        "id": "qhrVVaCZTmio"
      }
    },
    {
      "cell_type": "code",
      "source": [
        "def concat_strings(str1, str2):\n",
        "    \"\"\"\n",
        "    Concatenates two strings without using the + operator.\n",
        "\n",
        "    Args:\n",
        "        str1 (str): The first string.\n",
        "        str2 (str): The second string.\n",
        "\n",
        "    Returns:\n",
        "        str: The concatenated string.\n",
        "    \"\"\"\n",
        "    return \"%s%s\" % (str1, str2)\n",
        "\n",
        "# Test the function\n",
        "str1 = \"Hello\"\n",
        "str2 = \"World\"\n",
        "print(concat_strings(str1, str2))"
      ],
      "metadata": {
        "colab": {
          "base_uri": "https://localhost:8080/"
        },
        "id": "a-zTc_1DTd0X",
        "outputId": "3c859e49-b186-456c-bb27-9c2bd54f6f21"
      },
      "execution_count": 24,
      "outputs": [
        {
          "output_type": "stream",
          "name": "stdout",
          "text": [
            "HelloWorld\n"
          ]
        }
      ]
    },
    {
      "cell_type": "markdown",
      "source": [
        "**Question-11 Write a code to remove all occurences of a specific element from a list.**\n",
        "\n",
        "Answer\n",
        "\n"
      ],
      "metadata": {
        "id": "e9MjmTA2UF3e"
      }
    },
    {
      "cell_type": "code",
      "source": [
        "def remove_element(lst, element):\n",
        "    \"\"\"\n",
        "    Removes all occurrences of a specific element from a list.\n",
        "\n",
        "    Args:\n",
        "        lst (list): The input list.\n",
        "        element: The element to remove.\n",
        "\n",
        "    Returns:\n",
        "        list: The list with the element removed.\n",
        "    \"\"\"\n",
        "    return [x for x in lst if x != element]\n",
        "\n",
        "# Test the function\n",
        "lst = [1, 2, 3, 2, 4, 2, 5]\n",
        "element = 2\n",
        "print(remove_element(lst, element))"
      ],
      "metadata": {
        "colab": {
          "base_uri": "https://localhost:8080/"
        },
        "id": "iSuwYsHlT8OJ",
        "outputId": "d78e1d8d-0cd6-43ab-8e77-3d0cb8049187"
      },
      "execution_count": 25,
      "outputs": [
        {
          "output_type": "stream",
          "name": "stdout",
          "text": [
            "[1, 3, 4, 5]\n"
          ]
        }
      ]
    },
    {
      "cell_type": "markdown",
      "source": [
        "**Question-12 Implement a code to find the second largest number in a given list of integers.**\n",
        "\n",
        "Answer\n",
        "\n"
      ],
      "metadata": {
        "id": "wejDLiU2Uaqw"
      }
    },
    {
      "cell_type": "code",
      "source": [
        "def second_largest(nums):\n",
        "    \"\"\"\n",
        "    Finds the second largest number in a list of integers.\n",
        "\n",
        "    Args:\n",
        "        nums (list): A list of integers.\n",
        "\n",
        "    Returns:\n",
        "        int: The second largest number.\n",
        "\n",
        "    Raises:\n",
        "        ValueError: If the list has less than 2 unique numbers.\n",
        "    \"\"\"\n",
        "    if len(set(nums)) < 2:\n",
        "        raise ValueError(\"List must have at least 2 unique numbers\")\n",
        "\n",
        "    max_num = second_max = float('-inf')\n",
        "    for num in nums:\n",
        "        if num > max_num:\n",
        "            second_max = max_num\n",
        "            max_num = num\n",
        "        elif num > second_max and num != max_num:\n",
        "            second_max = num\n",
        "\n",
        "    return second_max\n",
        "\n",
        "# Test the function\n",
        "numbers = [10, 20, 30, 40, 50]\n",
        "print(second_largest(numbers))\n"
      ],
      "metadata": {
        "colab": {
          "base_uri": "https://localhost:8080/"
        },
        "id": "lNiI7mF0UYiV",
        "outputId": "e73f4774-7104-42ef-9812-b216997f3991"
      },
      "execution_count": 26,
      "outputs": [
        {
          "output_type": "stream",
          "name": "stdout",
          "text": [
            "40\n"
          ]
        }
      ]
    },
    {
      "cell_type": "markdown",
      "source": [
        "**Question-13 Create a code to count the occurrences of each element in a list and return a dictionary with elements as keys and their counts as values.**\n",
        "\n",
        "\n",
        "Answer\n",
        "\n"
      ],
      "metadata": {
        "id": "ttrJQSzyU3RG"
      }
    },
    {
      "cell_type": "code",
      "source": [
        "def count_elements(lst):\n",
        "    \"\"\"\n",
        "    Counts the occurrences of each element in a list.\n",
        "\n",
        "    Args:\n",
        "        lst (list): The input list.\n",
        "\n",
        "    Returns:\n",
        "        dict: A dictionary with elements as keys and their counts as values.\n",
        "    \"\"\"\n",
        "    return {i: lst.count(i) for i in set(lst)}\n",
        "\n",
        "# Test the function\n",
        "numbers = [1, 2, 2, 3, 3, 3, 4, 4, 4, 4]\n",
        "print(count_elements(numbers))"
      ],
      "metadata": {
        "colab": {
          "base_uri": "https://localhost:8080/"
        },
        "id": "XNAgFqY4Uxq0",
        "outputId": "9450d32e-e405-4397-e980-54778bbe99d5"
      },
      "execution_count": 27,
      "outputs": [
        {
          "output_type": "stream",
          "name": "stdout",
          "text": [
            "{1: 1, 2: 2, 3: 3, 4: 4}\n"
          ]
        }
      ]
    },
    {
      "cell_type": "markdown",
      "source": [
        "**Question-14 Write a code to reverse a list in-place without using any built-in reverse functions.**\n",
        "\n",
        "Answer\n",
        "\n"
      ],
      "metadata": {
        "id": "wkdqLzmIVhBQ"
      }
    },
    {
      "cell_type": "code",
      "source": [
        "def reverse_list_in_place(lst):\n",
        "    \"\"\"\n",
        "    Reverses a list in-place without using built-in reverse functions.\n",
        "\n",
        "    Args:\n",
        "        lst (list): The input list.\n",
        "    \"\"\"\n",
        "    left = 0\n",
        "    right = len(lst) - 1\n",
        "\n",
        "    while left < right:\n",
        "        # Swap elements at left and right indices\n",
        "        lst[left], lst[right] = lst[right], lst[left]\n",
        "        left += 1\n",
        "        right -= 1\n",
        "\n",
        "# Test the function\n",
        "numbers = [1, 2, 3, 4, 5]\n",
        "print(\"Original List:\", numbers)\n",
        "reverse_list_in_place(numbers)\n",
        "print(\"Reversed List:\", numbers)\n"
      ],
      "metadata": {
        "colab": {
          "base_uri": "https://localhost:8080/"
        },
        "id": "SCyAZutqVM4y",
        "outputId": "4526d99d-ce0d-4900-8332-b98bb88c9cfe"
      },
      "execution_count": 28,
      "outputs": [
        {
          "output_type": "stream",
          "name": "stdout",
          "text": [
            "Original List: [1, 2, 3, 4, 5]\n",
            "Reversed List: [5, 4, 3, 2, 1]\n"
          ]
        }
      ]
    },
    {
      "cell_type": "markdown",
      "source": [
        "**Question-15 Implement a code to find and remove duplicates from a list while preserving the original order of elements.**\n",
        "\n",
        "Answer\n",
        "\n"
      ],
      "metadata": {
        "id": "EKFZPqpzV2zi"
      }
    },
    {
      "cell_type": "code",
      "source": [
        "def remove_duplicates(lst):\n",
        "    \"\"\"\n",
        "    Removes duplicates from a list while preserving the original order.\n",
        "\n",
        "    Args:\n",
        "        lst (list): The input list.\n",
        "\n",
        "    Returns:\n",
        "        list: The list with duplicates removed.\n",
        "    \"\"\"\n",
        "    seen = set()\n",
        "    return [x for x in lst if not (x in seen or seen.add(x))]\n",
        "\n",
        "# Test the function\n",
        "numbers = [1, 2, 2, 3, 4, 4, 5, 6, 6]\n",
        "print(\"Original List:\", numbers)\n",
        "print(\"List without duplicates:\", remove_duplicates(numbers))"
      ],
      "metadata": {
        "colab": {
          "base_uri": "https://localhost:8080/"
        },
        "id": "vwOA7ywqV0c2",
        "outputId": "4136dadf-3906-49d1-e9b9-6022ad0ebd7c"
      },
      "execution_count": 29,
      "outputs": [
        {
          "output_type": "stream",
          "name": "stdout",
          "text": [
            "Original List: [1, 2, 2, 3, 4, 4, 5, 6, 6]\n",
            "List without duplicates: [1, 2, 3, 4, 5, 6]\n"
          ]
        }
      ]
    },
    {
      "cell_type": "markdown",
      "source": [
        "**Question-16 Create a code to check if a given list is sorted (either in ascending or descending order) or not.**\n",
        "\n",
        "Answer\n",
        "\n"
      ],
      "metadata": {
        "id": "9W-L03wkWRKP"
      }
    },
    {
      "cell_type": "code",
      "source": [
        "def is_sorted(lst):\n",
        "    \"\"\"\n",
        "    Checks if a list is sorted in ascending or descending order.\n",
        "\n",
        "    Args:\n",
        "        lst (list): The input list.\n",
        "\n",
        "    Returns:\n",
        "        str: \"Ascending\", \"Descending\", or \"Not Sorted\".\n",
        "    \"\"\"\n",
        "    ascending = lst == sorted(lst)\n",
        "    descending = lst == sorted(lst, reverse=True)\n",
        "\n",
        "    if ascending:\n",
        "        return \"Ascending\"\n",
        "    elif descending:\n",
        "        return \"Descending\"\n",
        "    else:\n",
        "        return \"Not Sorted\"\n",
        "\n",
        "# Test the function\n",
        "numbers = [1, 2, 3, 4, 5]\n",
        "print(is_sorted(numbers))"
      ],
      "metadata": {
        "colab": {
          "base_uri": "https://localhost:8080/"
        },
        "id": "9pSYUhVEWPy2",
        "outputId": "9fb534d0-959c-484f-dc8d-16e7e65e70d8"
      },
      "execution_count": 30,
      "outputs": [
        {
          "output_type": "stream",
          "name": "stdout",
          "text": [
            "Ascending\n"
          ]
        }
      ]
    },
    {
      "cell_type": "markdown",
      "source": [
        "**Question-17 Write a code to merge two sorted lists into a single sorted list.**\n",
        "\n",
        "Answer\n",
        "\n"
      ],
      "metadata": {
        "id": "HmUmQNdkWmIy"
      }
    },
    {
      "cell_type": "code",
      "source": [
        "def merge_sorted_lists(list1, list2):\n",
        "    \"\"\"\n",
        "    Merges two sorted lists into a single sorted list.\n",
        "\n",
        "    Args:\n",
        "        list1 (list): The first sorted list.\n",
        "        list2 (list): The second sorted list.\n",
        "\n",
        "    Returns:\n",
        "        list: The merged sorted list.\n",
        "    \"\"\"\n",
        "    return sorted(list1 + list2)\n",
        "\n",
        "# Test the function\n",
        "list1 = [1, 3, 5]\n",
        "list2 = [2, 4, 6]\n",
        "print(merge_sorted_lists(list1, list2))"
      ],
      "metadata": {
        "colab": {
          "base_uri": "https://localhost:8080/"
        },
        "id": "YANYmK5EWiE7",
        "outputId": "7f5cff43-9249-41d4-9137-4cfc41a8c193"
      },
      "execution_count": 31,
      "outputs": [
        {
          "output_type": "stream",
          "name": "stdout",
          "text": [
            "[1, 2, 3, 4, 5, 6]\n"
          ]
        }
      ]
    },
    {
      "cell_type": "markdown",
      "source": [
        "**Question-18 Implement a code to find the intersection of two given lists.**\n",
        "\n",
        "Answer\n",
        "\n"
      ],
      "metadata": {
        "id": "2xir7b0UW2uz"
      }
    },
    {
      "cell_type": "code",
      "source": [
        "def list_intersection(list1, list2):\n",
        "    \"\"\"\n",
        "    Finds the intersection of two lists.\n",
        "\n",
        "    Args:\n",
        "        list1 (list): The first list.\n",
        "        list2 (list): The second list.\n",
        "\n",
        "    Returns:\n",
        "        list: The intersection of the two lists.\n",
        "    \"\"\"\n",
        "    return [value for value in list1 if value in list2]\n",
        "\n",
        "# Test the function\n",
        "list1 = [1, 2, 3, 4, 5]\n",
        "list2 = [4, 5, 6, 7, 8]\n",
        "print(list_intersection(list1, list2))"
      ],
      "metadata": {
        "colab": {
          "base_uri": "https://localhost:8080/"
        },
        "id": "n9KO_cCcW1ck",
        "outputId": "4525360b-b763-4a4b-8b90-8ff863e5ce59"
      },
      "execution_count": 32,
      "outputs": [
        {
          "output_type": "stream",
          "name": "stdout",
          "text": [
            "[4, 5]\n"
          ]
        }
      ]
    },
    {
      "cell_type": "markdown",
      "source": [
        "**Question-19 Create a code to find the union of two lists without duplicates.**\n",
        "\n",
        "Answer\n",
        "\n"
      ],
      "metadata": {
        "id": "PTfay94uXJSE"
      }
    },
    {
      "cell_type": "code",
      "source": [
        "def list_union(list1, list2):\n",
        "    \"\"\"\n",
        "    Finds the union of two lists without duplicates.\n",
        "\n",
        "    Args:\n",
        "        list1 (list): The first list.\n",
        "        list2 (list): The second list.\n",
        "\n",
        "    Returns:\n",
        "        list: The union of the two lists without duplicates.\n",
        "    \"\"\"\n",
        "    return list(set(list1 + list2))\n",
        "\n",
        "# Test the function\n",
        "list1 = [1, 2, 3, 4, 5]\n",
        "list2 = [4, 5, 6, 7, 8]\n",
        "print(list_union(list1, list2))"
      ],
      "metadata": {
        "colab": {
          "base_uri": "https://localhost:8080/"
        },
        "id": "xbH8gqZ3XHr1",
        "outputId": "5e6bdf0b-beeb-433b-9761-31fe9449ebba"
      },
      "execution_count": 33,
      "outputs": [
        {
          "output_type": "stream",
          "name": "stdout",
          "text": [
            "[1, 2, 3, 4, 5, 6, 7, 8]\n"
          ]
        }
      ]
    },
    {
      "cell_type": "markdown",
      "source": [
        "**Question-20 Write a code to shuffle a given list randomly without using any built-in shuffle functions.**\n",
        "\n",
        "Answer\n",
        "\n"
      ],
      "metadata": {
        "id": "WG5ZV1RiXZvj"
      }
    },
    {
      "cell_type": "code",
      "source": [
        "def shuffle_list_random_sample(lst):\n",
        "    \"\"\"\n",
        "    Shuffles a list randomly by generating a random sample.\n",
        "\n",
        "    Args:\n",
        "        lst (list): The input list.\n",
        "\n",
        "    Returns:\n",
        "        list: The shuffled list.\n",
        "    \"\"\"\n",
        "    return random.sample(lst, len(lst))\n",
        "\n",
        "# Test the function\n",
        "numbers = [1, 2, 3, 4, 5]\n",
        "print(\"Original List:\", numbers)\n",
        "print(\"Shuffled List:\", shuffle_list_random_sample(numbers))\n",
        "\n"
      ],
      "metadata": {
        "colab": {
          "base_uri": "https://localhost:8080/",
          "height": 332
        },
        "id": "TV_7Gp__X-yt",
        "outputId": "606348d7-2ca7-449b-8032-69c92d7bbb11"
      },
      "execution_count": 36,
      "outputs": [
        {
          "output_type": "stream",
          "name": "stdout",
          "text": [
            "Original List: [1, 2, 3, 4, 5]\n"
          ]
        },
        {
          "output_type": "error",
          "ename": "NameError",
          "evalue": "name 'random' is not defined",
          "traceback": [
            "\u001b[0;31m---------------------------------------------------------------------------\u001b[0m",
            "\u001b[0;31mNameError\u001b[0m                                 Traceback (most recent call last)",
            "\u001b[0;32m<ipython-input-36-afeb835a4ae7>\u001b[0m in \u001b[0;36m<cell line: 16>\u001b[0;34m()\u001b[0m\n\u001b[1;32m     14\u001b[0m \u001b[0mnumbers\u001b[0m \u001b[0;34m=\u001b[0m \u001b[0;34m[\u001b[0m\u001b[0;36m1\u001b[0m\u001b[0;34m,\u001b[0m \u001b[0;36m2\u001b[0m\u001b[0;34m,\u001b[0m \u001b[0;36m3\u001b[0m\u001b[0;34m,\u001b[0m \u001b[0;36m4\u001b[0m\u001b[0;34m,\u001b[0m \u001b[0;36m5\u001b[0m\u001b[0;34m]\u001b[0m\u001b[0;34m\u001b[0m\u001b[0;34m\u001b[0m\u001b[0m\n\u001b[1;32m     15\u001b[0m \u001b[0mprint\u001b[0m\u001b[0;34m(\u001b[0m\u001b[0;34m\"Original List:\"\u001b[0m\u001b[0;34m,\u001b[0m \u001b[0mnumbers\u001b[0m\u001b[0;34m)\u001b[0m\u001b[0;34m\u001b[0m\u001b[0;34m\u001b[0m\u001b[0m\n\u001b[0;32m---> 16\u001b[0;31m \u001b[0mprint\u001b[0m\u001b[0;34m(\u001b[0m\u001b[0;34m\"Shuffled List:\"\u001b[0m\u001b[0;34m,\u001b[0m \u001b[0mshuffle_list_random_sample\u001b[0m\u001b[0;34m(\u001b[0m\u001b[0mnumbers\u001b[0m\u001b[0;34m)\u001b[0m\u001b[0;34m)\u001b[0m\u001b[0;34m\u001b[0m\u001b[0;34m\u001b[0m\u001b[0m\n\u001b[0m\u001b[1;32m     17\u001b[0m \u001b[0;34m\u001b[0m\u001b[0m\n",
            "\u001b[0;32m<ipython-input-36-afeb835a4ae7>\u001b[0m in \u001b[0;36mshuffle_list_random_sample\u001b[0;34m(lst)\u001b[0m\n\u001b[1;32m      9\u001b[0m         \u001b[0mlist\u001b[0m\u001b[0;34m:\u001b[0m \u001b[0mThe\u001b[0m \u001b[0mshuffled\u001b[0m \u001b[0mlist\u001b[0m\u001b[0;34m.\u001b[0m\u001b[0;34m\u001b[0m\u001b[0;34m\u001b[0m\u001b[0m\n\u001b[1;32m     10\u001b[0m     \"\"\"\n\u001b[0;32m---> 11\u001b[0;31m     \u001b[0;32mreturn\u001b[0m \u001b[0mrandom\u001b[0m\u001b[0;34m.\u001b[0m\u001b[0msample\u001b[0m\u001b[0;34m(\u001b[0m\u001b[0mlst\u001b[0m\u001b[0;34m,\u001b[0m \u001b[0mlen\u001b[0m\u001b[0;34m(\u001b[0m\u001b[0mlst\u001b[0m\u001b[0;34m)\u001b[0m\u001b[0;34m)\u001b[0m\u001b[0;34m\u001b[0m\u001b[0;34m\u001b[0m\u001b[0m\n\u001b[0m\u001b[1;32m     12\u001b[0m \u001b[0;34m\u001b[0m\u001b[0m\n\u001b[1;32m     13\u001b[0m \u001b[0;31m# Test the function\u001b[0m\u001b[0;34m\u001b[0m\u001b[0;34m\u001b[0m\u001b[0m\n",
            "\u001b[0;31mNameError\u001b[0m: name 'random' is not defined"
          ]
        }
      ]
    },
    {
      "cell_type": "markdown",
      "source": [
        "In the provided code:\n",
        "\n",
        "1.  The `shuffle_list` function implements a simple shuffle algorithm.\n",
        "2.  The `shuffle_list_fisher_yates` function uses the Fisher-Yates shuffle algorithm.\n",
        "3.  The `shuffle_list_random_sample` function leverages `random.sample()`.\n",
        "\n",
        "These examples demonstrate shuffling a list randomly without built-in shuffle functions.\n"
      ],
      "metadata": {
        "id": "-imq_xQ-YKPn"
      }
    },
    {
      "cell_type": "markdown",
      "source": [
        "**Question-21 Write a code that takes two tuples as input and returns a new tuple containing elements that are common to both input tuples.**\n",
        "\n",
        "Answer\n",
        "\n"
      ],
      "metadata": {
        "id": "-RM4fwlFYOhz"
      }
    },
    {
      "cell_type": "code",
      "source": [
        "def tuple_intersection(tuple1, tuple2):\n",
        "    \"\"\"\n",
        "    Finds the intersection of two tuples.\n",
        "\n",
        "    Args:\n",
        "        tuple1 (tuple): The first tuple.\n",
        "        tuple2 (tuple): The second tuple.\n",
        "\n",
        "    Returns:\n",
        "        tuple: A new tuple containing elements common to both input tuples.\n",
        "    \"\"\"\n",
        "    return tuple(set(tuple1) & set(tuple2))\n",
        "\n",
        "# Test the function\n",
        "tuple1 = (1, 2, 3, 4, 5)\n",
        "tuple2 = (4, 5, 6, 7, 8)\n",
        "print(\"Tuple 1:\", tuple1)\n",
        "print(\"Tuple 2:\", tuple2)\n",
        "print(\"Intersection:\", tuple_intersection(tuple1, tuple2))\n"
      ],
      "metadata": {
        "colab": {
          "base_uri": "https://localhost:8080/"
        },
        "id": "ta1YFRLNXwEI",
        "outputId": "cde087b4-18a5-4a81-b5a3-b16abdf5e121"
      },
      "execution_count": 37,
      "outputs": [
        {
          "output_type": "stream",
          "name": "stdout",
          "text": [
            "Tuple 1: (1, 2, 3, 4, 5)\n",
            "Tuple 2: (4, 5, 6, 7, 8)\n",
            "Intersection: (4, 5)\n"
          ]
        }
      ]
    },
    {
      "cell_type": "markdown",
      "source": [
        "**Question-22 Create a code that prompts the user to enter two sets of integers separated by commas. Then, print the intersection of these two sets.**\n",
        "\n",
        "Answer\n",
        "\n"
      ],
      "metadata": {
        "id": "CglyofB5YgHW"
      }
    },
    {
      "cell_type": "code",
      "source": [
        "def main():\n",
        "    # Get the first set from the user\n",
        "    set1 = get_set_from_user(\"Enter the first set of integers (separated by commas): \")\n",
        "\n",
        "    # Get the second set from the user\n",
        "    set2 = get_set_from_user(\"Enter the second set of integers (separated by commas): \")\n",
        "\n",
        "    # Calculate and print the intersection\n",
        "    intersection = set1 & set2\n",
        "    print(\"Intersection:\", intersection)\n",
        "\n",
        "if __name__ == \"__main__\":\n",
        "    main()\n"
      ],
      "metadata": {
        "colab": {
          "base_uri": "https://localhost:8080/"
        },
        "id": "nWhr23ibZXC6",
        "outputId": "eb8f4172-d09b-4c3f-fd25-7322f121021c"
      },
      "execution_count": 40,
      "outputs": [
        {
          "output_type": "stream",
          "name": "stdout",
          "text": [
            "Enter the first set of integers (separated by commas): 1,2,3,4\n",
            "Enter the second set of integers (separated by commas): 2,3,4,5\n",
            "Intersection: {2, 3, 4}\n"
          ]
        }
      ]
    },
    {
      "cell_type": "markdown",
      "source": [
        "**Question-23 Write a code to concatenate two tuples. The function should take two tuples as input and return a new tuple containing elements from both input tuples.**\n",
        "\n",
        "Answer\n",
        "\n"
      ],
      "metadata": {
        "id": "FWhXTf_XZ5cm"
      }
    },
    {
      "cell_type": "code",
      "source": [
        "def concatenate_tuples(tuple1, tuple2):\n",
        "    \"\"\"\n",
        "    Concatenates two tuples.\n",
        "\n",
        "    Args:\n",
        "        tuple1 (tuple): The first tuple.\n",
        "        tuple2 (tuple): The second tuple.\n",
        "\n",
        "    Returns:\n",
        "        tuple: A new tuple containing elements from both input tuples.\n",
        "    \"\"\"\n",
        "    return tuple1 + tuple2\n",
        "\n",
        "# Test the function\n",
        "tuple1 = (1, 2, 3)\n",
        "tuple2 = (4, 5, 6)\n",
        "print(\"Tuple 1:\", tuple1)\n",
        "print(\"Tuple 2:\", tuple2)\n",
        "print(\"Concatenated Tuple:\", concatenate_tuples(tuple1, tuple2))\n"
      ],
      "metadata": {
        "colab": {
          "base_uri": "https://localhost:8080/"
        },
        "id": "ilrBBY-lZkBR",
        "outputId": "87669dda-31b9-455f-a6f8-9ac814c277b8"
      },
      "execution_count": 41,
      "outputs": [
        {
          "output_type": "stream",
          "name": "stdout",
          "text": [
            "Tuple 1: (1, 2, 3)\n",
            "Tuple 2: (4, 5, 6)\n",
            "Concatenated Tuple: (1, 2, 3, 4, 5, 6)\n"
          ]
        }
      ]
    },
    {
      "cell_type": "markdown",
      "source": [
        "**Question-24 Develop a code that prompts the user to Input two sets of strings. Then, print the elements that are present in the first set but not in the second set.**\n",
        "\n",
        "Answer\n",
        "\n"
      ],
      "metadata": {
        "id": "8AOC-sDNaPLz"
      }
    },
    {
      "cell_type": "code",
      "source": [
        "def main():\n",
        "    # Get the first set from the user\n",
        "    set1 = get_set_from_user(\"Enter the first set of strings (separated by commas): \")\n",
        "\n",
        "    # Get the second set from the user\n",
        "    set2 = get_set_from_user(\"Enter the second set of strings (separated by commas): \")\n",
        "\n",
        "    # Calculate and print the difference\n",
        "    difference = set1 - set2\n",
        "    print(\"Elements present in the first set but not in the second set:\", difference)\n",
        "\n",
        "if __name__ == \"__main__\":\n",
        "    main()\n",
        "\n"
      ],
      "metadata": {
        "colab": {
          "base_uri": "https://localhost:8080/"
        },
        "id": "pXmLJtcAajMf",
        "outputId": "c18d8f57-aaa7-4e0c-8142-7a7c08b85904"
      },
      "execution_count": 45,
      "outputs": [
        {
          "output_type": "stream",
          "name": "stdout",
          "text": [
            "Enter the first set of strings (separated by commas): \"ram, shyam, ajay, raja\"\n",
            "Enter the second set of strings (separated by commas): \"ram, shyam, amit\"\n",
            "Elements present in the first set but not in the second set: {' raja\"', ' ajay'}\n"
          ]
        }
      ]
    },
    {
      "cell_type": "markdown",
      "source": [
        "**Question-25 Create a code that takes a tuple and two integers as input. The function should return a new tuple containing elements from the original tuple within the specified range of Indices.**\n",
        "\n",
        "Answer\n",
        "\n"
      ],
      "metadata": {
        "id": "CevQKLB-bZ4l"
      }
    },
    {
      "cell_type": "code",
      "source": [
        "def slice_tuple(original_tuple, start_index, end_index):\n",
        "    \"\"\"\n",
        "    Returns a new tuple containing elements from the original tuple within the specified range of indices.\n",
        "\n",
        "    Args:\n",
        "        original_tuple (tuple): The original tuple.\n",
        "        start_index (int): The starting index (inclusive).\n",
        "        end_index (int): The ending index (exclusive).\n",
        "\n",
        "    Returns:\n",
        "        tuple: A new tuple containing elements within the specified range.\n",
        "    \"\"\"\n",
        "    return original_tuple[start_index:end_index]\n",
        "\n",
        "# Test the function\n",
        "original_tuple = (1, 2, 3, 4, 5, 6, 7, 8, 9)\n",
        "start_index = 3\n",
        "end_index = 7\n",
        "print(\"Original Tuple:\", original_tuple)\n",
        "print(\"Start Index:\", start_index)\n",
        "print(\"End Index:\", end_index)\n",
        "print(\"Sliced Tuple:\", slice_tuple(original_tuple, start_index, end_index))\n"
      ],
      "metadata": {
        "colab": {
          "base_uri": "https://localhost:8080/"
        },
        "id": "iYny7rFiaqAm",
        "outputId": "c45e0238-7760-41c0-ebbe-e43177f395f5"
      },
      "execution_count": 46,
      "outputs": [
        {
          "output_type": "stream",
          "name": "stdout",
          "text": [
            "Original Tuple: (1, 2, 3, 4, 5, 6, 7, 8, 9)\n",
            "Start Index: 3\n",
            "End Index: 7\n",
            "Sliced Tuple: (4, 5, 6, 7)\n"
          ]
        }
      ]
    },
    {
      "cell_type": "markdown",
      "source": [
        "**Question-26 Write a code that prompts the user to input two sets of characters. Then, print the union of these two sets.**\n",
        "\n",
        "Answer\n",
        "\n"
      ],
      "metadata": {
        "id": "vsUmK_WDbuK2"
      }
    },
    {
      "cell_type": "code",
      "source": [
        "def main():\n",
        "    # Get the first set from the user\n",
        "    set1 = get_set_from_user(\"Enter the first set of characters: \")\n",
        "\n",
        "    # Get the second set from the user\n",
        "    set2 = get_set_from_user(\"Enter the second set of characters: \")\n",
        "\n",
        "    # Calculate and print the union\n",
        "    union = set1.union(set2)\n",
        "    print(\"Union of the two sets:\", union)\n",
        "\n",
        "if __name__ == \"__main__\":\n",
        "    main()\n"
      ],
      "metadata": {
        "colab": {
          "base_uri": "https://localhost:8080/"
        },
        "id": "tcNuwwcdbtHF",
        "outputId": "1291f534-450b-4728-c075-3150e92bfc06"
      },
      "execution_count": 47,
      "outputs": [
        {
          "output_type": "stream",
          "name": "stdout",
          "text": [
            "Enter the first set of characters: raja, rahul, ankit\n",
            "Enter the second set of characters: amit, raja, rahul, sumit\n",
            "Union of the two sets: {' rahul', 'raja', ' ankit', 'amit', ' raja', ' sumit'}\n"
          ]
        }
      ]
    },
    {
      "cell_type": "markdown",
      "source": [
        "**Question-27 Develop a code that takes a tuple of integers as input. The function should return the maximum and minimum values from the tuple using tuple unpacking.**\n",
        "\n",
        "Answer\n"
      ],
      "metadata": {
        "id": "RDxiNbhQcKXT"
      }
    },
    {
      "cell_type": "code",
      "source": [
        "def find_max_min_builtin(tuple_of_integers):\n",
        "    \"\"\"\n",
        "    Finds the maximum and minimum values from a tuple of integers using built-in functions.\n",
        "\n",
        "    Args:\n",
        "        tuple_of_integers (tuple): A tuple of integers.\n",
        "\n",
        "    Returns:\n",
        "        tuple: A tuple containing the minimum and maximum values.\n",
        "    \"\"\"\n",
        "    return min(tuple_of_integers), max(tuple_of_integers)\n",
        "\n",
        "# Test the function\n",
        "tuple_of_integers = (10, 20, 5, 30, 15)\n",
        "print(\"Tuple of Integers:\", tuple_of_integers)\n",
        "min_val, max_val = find_max_min_builtin(tuple_of_integers)\n",
        "print(\"Minimum Value:\", min_val)\n",
        "print(\"Maximum Value:\", max_val)\n"
      ],
      "metadata": {
        "colab": {
          "base_uri": "https://localhost:8080/"
        },
        "id": "YIt-wGmWb_5R",
        "outputId": "76af489f-d319-4871-aa9b-a4cedbfbe957"
      },
      "execution_count": 48,
      "outputs": [
        {
          "output_type": "stream",
          "name": "stdout",
          "text": [
            "Tuple of Integers: (10, 20, 5, 30, 15)\n",
            "Minimum Value: 5\n",
            "Maximum Value: 30\n"
          ]
        }
      ]
    },
    {
      "cell_type": "markdown",
      "source": [
        "**Question-28 Create a code that defines two sets of integers. Then, print the union, Intersection, and difference of these two sets.**\n",
        "\n",
        "Answer\n",
        "\n"
      ],
      "metadata": {
        "id": "4HJQr1DtcfMJ"
      }
    },
    {
      "cell_type": "code",
      "source": [
        "# Define two sets of integers\n",
        "set1 = {1, 2, 3, 4, 5}\n",
        "set2 = {4, 5, 6, 7, 8}\n",
        "\n",
        "# Print the sets\n",
        "print(\"Set 1:\", set1)\n",
        "print(\"Set 2:\", set2)\n",
        "\n",
        "# Calculate and print the union\n",
        "union = set1.union(set2)\n",
        "print(\"Union:\", union)\n",
        "\n",
        "# Calculate and print the intersection\n",
        "intersection = set1.intersection(set2)\n",
        "print(\"Intersection:\", intersection)\n",
        "\n",
        "# Calculate and print the difference (set1 - set2)\n",
        "difference1 = set1.difference(set2)\n",
        "print(\"Difference (Set 1 - Set 2):\", difference1)\n",
        "\n",
        "# Calculate and print the difference (set2 - set1)\n",
        "difference2 = set2.difference(set1)\n",
        "print(\"Difference (Set 2 - Set 1):\", difference2)\n"
      ],
      "metadata": {
        "colab": {
          "base_uri": "https://localhost:8080/"
        },
        "id": "-diOUfGuceB-",
        "outputId": "a231be96-36f1-40a9-c141-3e99e63ce188"
      },
      "execution_count": 49,
      "outputs": [
        {
          "output_type": "stream",
          "name": "stdout",
          "text": [
            "Set 1: {1, 2, 3, 4, 5}\n",
            "Set 2: {4, 5, 6, 7, 8}\n",
            "Union: {1, 2, 3, 4, 5, 6, 7, 8}\n",
            "Intersection: {4, 5}\n",
            "Difference (Set 1 - Set 2): {1, 2, 3}\n",
            "Difference (Set 2 - Set 1): {8, 6, 7}\n"
          ]
        }
      ]
    },
    {
      "cell_type": "markdown",
      "source": [
        "**Question-29 Write a code that takes a tuple and an element as input. The function should return the count of occurrences of the given element in the tuple.**\n",
        "\n",
        "Answer\n",
        "\n"
      ],
      "metadata": {
        "id": "2-1ua_HddAXy"
      }
    },
    {
      "cell_type": "code",
      "source": [
        "def count_occurrences(tuple, element):\n",
        "    \"\"\"\n",
        "    Counts the occurrences of a given element in a tuple.\n",
        "\n",
        "    Args:\n",
        "        tuple (tuple): The input tuple.\n",
        "        element: The element to count.\n",
        "\n",
        "    Returns:\n",
        "        int: The count of occurrences.\n",
        "    \"\"\"\n",
        "    return tuple.count(element)\n",
        "\n",
        "# Test the function\n",
        "my_tuple = (1, 2, 2, 3, 2, 4, 5)\n",
        "element = 2\n",
        "print(\"Tuple:\", my_tuple)\n",
        "print(\"Element:\", element)\n",
        "print(\"Count:\", count_occurrences(my_tuple, element))\n"
      ],
      "metadata": {
        "colab": {
          "base_uri": "https://localhost:8080/"
        },
        "id": "x89SoIsfc-dv",
        "outputId": "58433033-1919-45f8-ef0c-47513b701997"
      },
      "execution_count": 50,
      "outputs": [
        {
          "output_type": "stream",
          "name": "stdout",
          "text": [
            "Tuple: (1, 2, 2, 3, 2, 4, 5)\n",
            "Element: 2\n",
            "Count: 3\n"
          ]
        }
      ]
    },
    {
      "cell_type": "markdown",
      "source": [
        "**Questin-30 Develop a code that prompts the user to input two sets of strings. Then, print the symmetric difference of these two sets.**\n",
        "\n",
        "Answer\n",
        "\n"
      ],
      "metadata": {
        "id": "iwGqQDb7dR3k"
      }
    },
    {
      "cell_type": "code",
      "source": [
        "def main():\n",
        "    # Get the first set from the user\n",
        "    set1 = get_set_from_user(\"Enter the first set of strings (separated by commas): \")\n",
        "\n",
        "    # Get the second set from the user\n",
        "    set2 = get_set_from_user(\"Enter the second set of strings (separated by commas): \")\n",
        "\n",
        "    # Calculate and print the symmetric difference\n",
        "    symmetric_diff = set1.symmetric_difference(set2)\n",
        "    print(\"Symmetric Difference:\", symmetric_diff)\n",
        "\n",
        "if __name__ == \"__main__\":\n",
        "    main()\n"
      ],
      "metadata": {
        "colab": {
          "base_uri": "https://localhost:8080/"
        },
        "id": "VwkL0WQ4djeu",
        "outputId": "1da6e0d6-0f78-4e75-e862-206ed21da62a"
      },
      "execution_count": 53,
      "outputs": [
        {
          "output_type": "stream",
          "name": "stdout",
          "text": [
            "Enter the first set of strings (separated by commas): \"raja, rahul, ajay, bijay\"\n",
            "Enter the second set of strings (separated by commas): \"ankit, pulkit, ajay, rahul\"\n",
            "Symmetric Difference: {' rahul\"', ' rahul', '\"raja', ' pulkit', '\"ankit', ' bijay\"'}\n"
          ]
        }
      ]
    },
    {
      "cell_type": "markdown",
      "source": [
        "**Question-31 Write a code that takes a list of words as input and returns a dictionary where the keys are unique words and the values are the frequencies of those words in the input list**\n",
        "\n",
        "Answer\n",
        "\n"
      ],
      "metadata": {
        "id": "4K3eoUdBd3IA"
      }
    },
    {
      "cell_type": "code",
      "source": [
        "def word_frequencies_counter(word_list):\n",
        "    \"\"\"\n",
        "    Creates a dictionary with word frequencies from a list of words using collections.Counter.\n",
        "\n",
        "    Args:\n",
        "        word_list (list): A list of words.\n",
        "\n",
        "    Returns:\n",
        "        dict: A dictionary where keys are unique words and values are their frequencies.\n",
        "    \"\"\"\n",
        "    from collections import Counter\n",
        "    return dict(Counter(word.lower() for word in word_list))\n",
        "\n",
        "# Test the function\n",
        "word_list = [\"apple\", \"banana\", \"apple\", \"cherry\", \"banana\", \"banana\"]\n",
        "print(\"Word List:\", word_list)\n",
        "print(\"Word Frequencies:\", word_frequencies_counter(word_list))\n"
      ],
      "metadata": {
        "colab": {
          "base_uri": "https://localhost:8080/"
        },
        "id": "YwcdBsV2dqYY",
        "outputId": "4eba6cfa-280c-4106-970e-cc8933e840c9"
      },
      "execution_count": 54,
      "outputs": [
        {
          "output_type": "stream",
          "name": "stdout",
          "text": [
            "Word List: ['apple', 'banana', 'apple', 'cherry', 'banana', 'banana']\n",
            "Word Frequencies: {'apple': 2, 'banana': 3, 'cherry': 1}\n"
          ]
        }
      ]
    },
    {
      "cell_type": "markdown",
      "source": [
        "**Question-32 Write a code that takes two dictionaries as Input and merges them into a single dictionary. If there are common keys, the values should be added together.**\n",
        "\n",
        "Answer\n",
        "\n"
      ],
      "metadata": {
        "id": "5A3oUo67eL-e"
      }
    },
    {
      "cell_type": "code",
      "source": [
        "def merge_dictionaries(dict1, dict2):\n",
        "    \"\"\"\n",
        "    Merges two dictionaries, adding values for common keys.\n",
        "\n",
        "    Args:\n",
        "        dict1 (dict): The first dictionary.\n",
        "        dict2 (dict): The second dictionary.\n",
        "\n",
        "    Returns:\n",
        "        dict: The merged dictionary.\n",
        "    \"\"\"\n",
        "    merged_dict = dict1.copy()\n",
        "    for key, value in dict2.items():\n",
        "        if key in merged_dict:\n",
        "            merged_dict[key] += value\n",
        "        else:\n",
        "            merged_dict[key] = value\n",
        "    return merged_dict\n",
        "\n",
        "# Test the function\n",
        "dict1 = {\"a\": 10, \"b\": 20, \"c\": 30}\n",
        "dict2 = {\"b\": 5, \"c\": 15, \"d\": 25}\n",
        "print(\"Dictionary 1:\", dict1)\n",
        "print(\"Dictionary 2:\", dict2)\n",
        "print(\"Merged Dictionary:\", merge_dictionaries(dict1, dict2))"
      ],
      "metadata": {
        "colab": {
          "base_uri": "https://localhost:8080/"
        },
        "id": "yzEmiaYeeKeV",
        "outputId": "06b83436-8024-4baf-8092-0c73b4123844"
      },
      "execution_count": 55,
      "outputs": [
        {
          "output_type": "stream",
          "name": "stdout",
          "text": [
            "Dictionary 1: {'a': 10, 'b': 20, 'c': 30}\n",
            "Dictionary 2: {'b': 5, 'c': 15, 'd': 25}\n",
            "Merged Dictionary: {'a': 10, 'b': 25, 'c': 45, 'd': 25}\n"
          ]
        }
      ]
    },
    {
      "cell_type": "markdown",
      "source": [
        "**Question-33 Write a code to access a value in a nested dictionary. The function should take the dictionary and a list of keys as input, and return the corresponding value. If any of the keys do not exist in the dictionary, the function should return None.**\n",
        "\n",
        "Answer\n",
        "\n"
      ],
      "metadata": {
        "id": "_jYdQGOxeg38"
      }
    },
    {
      "cell_type": "code",
      "source": [
        "def access_nested_dict(nested_dict, keys):\n",
        "    \"\"\"\n",
        "    Accesses a value in a nested dictionary.\n",
        "\n",
        "    Args:\n",
        "        nested_dict (dict): The nested dictionary.\n",
        "        keys (list): A list of keys.\n",
        "\n",
        "    Returns:\n",
        "        value: The corresponding value if all keys exist, otherwise None.\n",
        "    \"\"\"\n",
        "    value = nested_dict\n",
        "    for key in keys:\n",
        "        if isinstance(value, dict) and key in value:\n",
        "            value = value[key]\n",
        "        else:\n",
        "            return None\n",
        "    return value\n",
        "\n",
        "# Test the function\n",
        "nested_dict = {\n",
        "    \"a\": {\"b\": { \"c\": \"value\"}}}\n",
        "keys = [\"a\", \"b\", \"c\"]\n",
        "print(\"Nested Dictionary:\", nested_dict)\n",
        "print(\"Keys:\", keys)\n",
        "print(\"Value:\", access_nested_dict(nested_dict, keys))\n"
      ],
      "metadata": {
        "colab": {
          "base_uri": "https://localhost:8080/"
        },
        "id": "SwHRodLIefpG",
        "outputId": "aa278abd-ec93-4a8f-802e-1f053a98e1d3"
      },
      "execution_count": 57,
      "outputs": [
        {
          "output_type": "stream",
          "name": "stdout",
          "text": [
            "Nested Dictionary: {'a': {'b': {'c': 'value'}}}\n",
            "Keys: ['a', 'b', 'c']\n",
            "Value: value\n"
          ]
        }
      ]
    },
    {
      "cell_type": "markdown",
      "source": [
        "**Question-34 Write a code that takes a dictionary as input and returns a sorted version of it based on the values. You can choose whether to sort in ascending or descending order.**\n",
        "\n",
        "Answer\n",
        "\n"
      ],
      "metadata": {
        "id": "d6sEbogFfARE"
      }
    },
    {
      "cell_type": "code",
      "source": [
        "def sort_dict_by_values(input_dict, ascending=True):\n",
        "    \"\"\"\n",
        "    Sorts a dictionary by values.\n",
        "\n",
        "    Args:\n",
        "        input_dict (dict): The input dictionary.\n",
        "        ascending (bool): Whether to sort in ascending order (default) or descending.\n",
        "\n",
        "    Returns:\n",
        "        dict: The sorted dictionary.\n",
        "    \"\"\"\n",
        "    return dict(sorted(input_dict.items(), key=lambda item: item[1], reverse=not ascending))\n",
        "\n",
        "# Test the function\n",
        "input_dict = {\"a\": 3, \"b\": 1, \"c\": 2, \"d\": 4}\n",
        "print(\"Input Dictionary:\", input_dict)\n",
        "print(\"Sorted Dictionary (Ascending):\", sort_dict_by_values(input_dict))\n",
        "print(\"Sorted Dictionary (Descending):\", sort_dict_by_values(input_dict, ascending=False))\n"
      ],
      "metadata": {
        "colab": {
          "base_uri": "https://localhost:8080/"
        },
        "id": "Qj1kFRXReyR9",
        "outputId": "c368607a-071e-4f7b-ac50-178b29d9a9f2"
      },
      "execution_count": 58,
      "outputs": [
        {
          "output_type": "stream",
          "name": "stdout",
          "text": [
            "Input Dictionary: {'a': 3, 'b': 1, 'c': 2, 'd': 4}\n",
            "Sorted Dictionary (Ascending): {'b': 1, 'c': 2, 'a': 3, 'd': 4}\n",
            "Sorted Dictionary (Descending): {'d': 4, 'a': 3, 'c': 2, 'b': 1}\n"
          ]
        }
      ]
    },
    {
      "cell_type": "markdown",
      "source": [
        "**Question-35 Write a code that inverts a dictionary, swapping keys and values. Ensure that the inverted dictionary correctly handles cases where multiple keys have the same value by storing the keys as a list in the inverted dictionary.**\n",
        "\n",
        "Answer\n",
        "\n"
      ],
      "metadata": {
        "id": "MRQ3Dfx3fUus"
      }
    },
    {
      "cell_type": "code",
      "source": [
        "def invert_dict(input_dict):\n",
        "    \"\"\"\n",
        "    Inverts a dictionary, swapping keys and values.\n",
        "\n",
        "    Args:\n",
        "        input_dict (dict): The input dictionary.\n",
        "\n",
        "    Returns:\n",
        "        dict: The inverted dictionary.\n",
        "    \"\"\"\n",
        "    inverted_dict = {}\n",
        "    for key, value in input_dict.items():\n",
        "        if value in inverted_dict:\n",
        "            inverted_dict[value].append(key)\n",
        "        else:\n",
        "            inverted_dict[value] = [key]\n",
        "    return inverted_dict\n",
        "\n",
        "# Test the function\n",
        "input_dict = {\"a\": 1, \"b\": 2, \"c\": 1, \"d\": 3, \"e\": 2}\n",
        "print(\"Input Dictionary:\", input_dict)\n",
        "print(\"Inverted Dictionary:\", invert_dict(input_dict))\n"
      ],
      "metadata": {
        "colab": {
          "base_uri": "https://localhost:8080/"
        },
        "id": "RX_B7SfifTgY",
        "outputId": "c48336e9-f054-499b-c1f0-02f17c224023"
      },
      "execution_count": 59,
      "outputs": [
        {
          "output_type": "stream",
          "name": "stdout",
          "text": [
            "Input Dictionary: {'a': 1, 'b': 2, 'c': 1, 'd': 3, 'e': 2}\n",
            "Inverted Dictionary: {1: ['a', 'c'], 2: ['b', 'e'], 3: ['d']}\n"
          ]
        }
      ]
    }
  ]
}