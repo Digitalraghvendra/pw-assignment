{
  "nbformat": 4,
  "nbformat_minor": 0,
  "metadata": {
    "colab": {
      "provenance": [],
      "toc_visible": true
    },
    "kernelspec": {
      "name": "python3",
      "display_name": "Python 3"
    },
    "language_info": {
      "name": "python"
    }
  },
  "cells": [
    {
      "cell_type": "markdown",
      "source": [
        "# Data Structure Assignment"
      ],
      "metadata": {
        "id": "2_P7Kk3Hi5Uy"
      }
    },
    {
      "cell_type": "markdown",
      "source": [
        "**Question-1 Discuss string slicing and provide examples.**\n",
        "\n",
        "Answer:\n",
        "\n",
        "String slicing is a powerful feature in Python that allows you to extract a subset of characters from a string.\n",
        "\n",
        "\n",
        "Basic Syntax:\n",
        "\n",
        "\n",
        "string[start:stop:step]\n",
        "\n",
        "\n",
        "- start: The starting index of the slice (inclusive).\n",
        "- stop: The ending index of the slice (exclusive).\n",
        "- step: The increment between indices (default is 1).\n",
        "\n",
        "Examples:"
      ],
      "metadata": {
        "id": "zheu3RyYjGKf"
      }
    },
    {
      "cell_type": "code",
      "source": [
        "#Simple Slice\n",
        "my_string = \"hello\"\n",
        "print(my_string[1:4])\n"
      ],
      "metadata": {
        "colab": {
          "base_uri": "https://localhost:8080/"
        },
        "id": "YwoP2ZB_jepa",
        "outputId": "a0cd4f7b-90c8-4135-f873-8aea125e1d7b"
      },
      "execution_count": null,
      "outputs": [
        {
          "output_type": "stream",
          "name": "stdout",
          "text": [
            "ell\n"
          ]
        }
      ]
    },
    {
      "cell_type": "code",
      "source": [
        "#Omitting Start Index\n",
        "my_string = \"hello\"\n",
        "my_string[:4]"
      ],
      "metadata": {
        "colab": {
          "base_uri": "https://localhost:8080/",
          "height": 35
        },
        "id": "75G6X-Erjpi-",
        "outputId": "ba324406-8438-4d2b-d044-0ef3c4ea1c8f"
      },
      "execution_count": null,
      "outputs": [
        {
          "output_type": "execute_result",
          "data": {
            "text/plain": [
              "'hell'"
            ],
            "application/vnd.google.colaboratory.intrinsic+json": {
              "type": "string"
            }
          },
          "metadata": {},
          "execution_count": 7
        }
      ]
    },
    {
      "cell_type": "code",
      "source": [
        "#Omitting Stop Index\n",
        "my_string = \"hello\"\n",
        "my_string[2:]"
      ],
      "metadata": {
        "colab": {
          "base_uri": "https://localhost:8080/",
          "height": 35
        },
        "id": "xZYvjHxpkYex",
        "outputId": "9fa2fab7-2d38-4a55-e7bd-ce62e17d6e44"
      },
      "execution_count": null,
      "outputs": [
        {
          "output_type": "execute_result",
          "data": {
            "text/plain": [
              "'llo'"
            ],
            "application/vnd.google.colaboratory.intrinsic+json": {
              "type": "string"
            }
          },
          "metadata": {},
          "execution_count": 8
        }
      ]
    },
    {
      "cell_type": "code",
      "source": [
        "#Negative Indices\n",
        "my_string = \"hello\"\n",
        "my_string[-3:]"
      ],
      "metadata": {
        "colab": {
          "base_uri": "https://localhost:8080/",
          "height": 35
        },
        "id": "krIIOCSNkpL6",
        "outputId": "13b06921-ba83-485d-c20d-cbf6241a8795"
      },
      "execution_count": null,
      "outputs": [
        {
          "output_type": "execute_result",
          "data": {
            "text/plain": [
              "'llo'"
            ],
            "application/vnd.google.colaboratory.intrinsic+json": {
              "type": "string"
            }
          },
          "metadata": {},
          "execution_count": 9
        }
      ]
    },
    {
      "cell_type": "code",
      "source": [
        "#Step Parameter\n",
        "my_string = \"hello\"\n",
        "my_string[::2]"
      ],
      "metadata": {
        "colab": {
          "base_uri": "https://localhost:8080/",
          "height": 35
        },
        "id": "ojQwGAbnkyTv",
        "outputId": "f1ca26c4-12ac-4d9f-a4dc-c7c8bc410bfc"
      },
      "execution_count": null,
      "outputs": [
        {
          "output_type": "execute_result",
          "data": {
            "text/plain": [
              "'hlo'"
            ],
            "application/vnd.google.colaboratory.intrinsic+json": {
              "type": "string"
            }
          },
          "metadata": {},
          "execution_count": 10
        }
      ]
    },
    {
      "cell_type": "code",
      "source": [
        "#Reversing a String\n",
        "my_string = \"hello\"\n",
        "my_string[::-1]"
      ],
      "metadata": {
        "colab": {
          "base_uri": "https://localhost:8080/",
          "height": 35
        },
        "id": "wINts3Xok_8x",
        "outputId": "2fb9156f-680c-4f94-f812-a19ee1da9ad6"
      },
      "execution_count": null,
      "outputs": [
        {
          "output_type": "execute_result",
          "data": {
            "text/plain": [
              "'olleh'"
            ],
            "application/vnd.google.colaboratory.intrinsic+json": {
              "type": "string"
            }
          },
          "metadata": {},
          "execution_count": 12
        }
      ]
    },
    {
      "cell_type": "markdown",
      "source": [
        "Common Use Cases:\n",
        "\n",
        "1.Extracting substrings\n",
        "\n",
        "2.Removing characters from a string\n",
        "\n",
        "3.Reversing a string\n",
        "\n",
        "4.Creating a substring from a larger string\n",
        "\n",
        "5.Validating user input\n",
        "\n",
        "6.Tips and Tricks:\n",
        "\n",
        "\n",
        "\n",
        "Use len() to get the length of the string.\n",
        "\n",
        "Use my_string[start:stop] to extract a substring.\n",
        "\n",
        "Use my_string[:] to create a copy of the string.\n",
        "\n",
        "Use my_string[::-1] to reverse a string.\n",
        "\n",
        "Use my_string[::2] to extract every other character.\n",
        "\n"
      ],
      "metadata": {
        "id": "n5hEvOXAlXWT"
      }
    },
    {
      "cell_type": "markdown",
      "source": [
        "**Question-2 Explain the key features of lists in Python.**\n",
        "\n",
        "Answer:\n",
        "\n",
        " Lists are a fundamental data structure in Python, offering powerful features for storing and manipulating collections of data.\n",
        "\n",
        "Key Features of Lists:\n",
        "\n",
        "1. Ordered: Lists maintain the order of elements.\n",
        "2. Indexed: Elements are accessible via indices (0-based).\n",
        "3. Mutable: Lists can be modified after creation.\n",
        "4. Dynamic: Lists can grow or shrink dynamically.\n",
        "5. Heterogeneous: Lists can store elements of different data types.\n",
        "\n",
        "List Operations:\n",
        "\n",
        "1. Indexing: Accessing elements by index (list[i]).\n",
        "2. Slicing: Extracting subsets of elements (list[i:j]).\n",
        "3. Append: Adding elements to the end (list.append()).\n",
        "4. Insert: Inserting elements at specific positions (list.insert()).\n",
        "5. Remove: Deleting elements by value or index (list.remove() or del list[i]).\n",
        "6. Sort: Sorting elements in ascending or descending order (list.sort()).\n",
        "7. Reverse: Reversing the order of elements (list.reverse()).\n",
        "\n",
        "List Methods:\n",
        "\n",
        "1. append(): Adds an element to the end.\n",
        "2. extend(): Adds multiple elements.\n",
        "3. insert(): Inserts an element at a specific position.\n",
        "4. remove(): Deletes the first occurrence of an element.\n",
        "5. pop(): Removes and returns an element at a specific position.\n",
        "6. index(): Returns the index of the first occurrence of an element.\n",
        "7. count(): Returns the number of occurrences of an element.\n",
        "8. sort(): Sorts the list in-place.\n",
        "9. reverse(): Reverses the list in-place.\n",
        "\n",
        "List Comprehensions:\n",
        "\n",
        "1. Concise way to create lists from existing lists or iterables.\n",
        "2. Syntax: [expression for element in iterable].\n",
        "\n",
        "Example: squares = [x**2 for x in range(10)]\n",
        "\n",
        "Use Cases:\n",
        "\n",
        "1. Storing collections of data.\n",
        "2. Manipulating data in-place.\n",
        "3. Creating dynamic arrays.\n",
        "4. Implementing stacks and queues.\n",
        "5. Representing matrices and vectors.\n"
      ],
      "metadata": {
        "id": "22k2nqkWmH79"
      }
    },
    {
      "cell_type": "markdown",
      "source": [
        "**Question-3 Describe how to access, modify, and delete elements in a list with examples.**\n",
        "\n",
        "Answer\n",
        "Here's how to access, modify, and delete elements in a list:\n",
        "\n",
        "Accessing Elements\n",
        "\n",
        "Indexing: Access elements using square brackets [] with the index"
      ],
      "metadata": {
        "id": "AojnLQDgnE75"
      }
    },
    {
      "cell_type": "code",
      "source": [
        "my_list = [1, 2, 3, 4, 5]\n",
        "print(my_list[0])\n"
      ],
      "metadata": {
        "colab": {
          "base_uri": "https://localhost:8080/"
        },
        "id": "oq8IvZlpJ8eq",
        "outputId": "f9f5d75c-d210-4ab2-8c73-6e73228b6df2"
      },
      "execution_count": 1,
      "outputs": [
        {
          "output_type": "stream",
          "name": "stdout",
          "text": [
            "1\n"
          ]
        }
      ]
    },
    {
      "cell_type": "code",
      "source": [
        "#Negative Indexing: Access elements from the end.\n",
        "my_list = [1, 2, 3, 4, 5]\n",
        "print(my_list[-1])"
      ],
      "metadata": {
        "colab": {
          "base_uri": "https://localhost:8080/"
        },
        "id": "i8Yf8RZGJ_sO",
        "outputId": "050f6718-e459-4619-c164-600f7d848dc7"
      },
      "execution_count": 2,
      "outputs": [
        {
          "output_type": "stream",
          "name": "stdout",
          "text": [
            "5\n"
          ]
        }
      ]
    },
    {
      "cell_type": "code",
      "source": [
        "#Slicing: Access a range of elements.\n",
        "my_list = [1, 2, 3, 4, 5]\n",
        "print(my_list[1:3])"
      ],
      "metadata": {
        "colab": {
          "base_uri": "https://localhost:8080/"
        },
        "id": "Pdxgtg0MKK4j",
        "outputId": "ef603916-9650-488b-dd1a-14c3a3d99609"
      },
      "execution_count": 3,
      "outputs": [
        {
          "output_type": "stream",
          "name": "stdout",
          "text": [
            "[2, 3]\n"
          ]
        }
      ]
    },
    {
      "cell_type": "markdown",
      "source": [
        "Modifying Elements\n",
        "\n",
        "Assignment: Modify an element by assigning a new value."
      ],
      "metadata": {
        "id": "I512VUJjKXQk"
      }
    },
    {
      "cell_type": "code",
      "source": [
        "y_list = [1, 2, 3, 4, 5]\n",
        "my_list[0] = 10\n",
        "print(my_list)"
      ],
      "metadata": {
        "colab": {
          "base_uri": "https://localhost:8080/"
        },
        "id": "F6x1F2xiKR9S",
        "outputId": "a4a62c94-eeed-41f1-c6df-6663ed2601f6"
      },
      "execution_count": 5,
      "outputs": [
        {
          "output_type": "stream",
          "name": "stdout",
          "text": [
            "[10, 2, 3, 4, 5]\n"
          ]
        }
      ]
    },
    {
      "cell_type": "code",
      "source": [
        "#Append: Add an element to the end.\n",
        "my_list = [1, 2, 3, 4, 5]\n",
        "my_list.append(6)\n",
        "print(my_list)"
      ],
      "metadata": {
        "colab": {
          "base_uri": "https://localhost:8080/"
        },
        "id": "iKMC0LASKiwP",
        "outputId": "4b8b8479-3c43-4c08-dc81-821ad4ce6ba8"
      },
      "execution_count": 6,
      "outputs": [
        {
          "output_type": "stream",
          "name": "stdout",
          "text": [
            "[1, 2, 3, 4, 5, 6]\n"
          ]
        }
      ]
    },
    {
      "cell_type": "code",
      "source": [
        "#Insert: Insert an element at a specific position.\n",
        "my_list = [1, 2, 3, 4, 5]\n",
        "my_list.insert(2, 10)\n",
        "print(my_list)"
      ],
      "metadata": {
        "colab": {
          "base_uri": "https://localhost:8080/"
        },
        "id": "G1sZPXAHKw_I",
        "outputId": "642ca755-641f-460d-b705-3dfa89cfc8fd"
      },
      "execution_count": 7,
      "outputs": [
        {
          "output_type": "stream",
          "name": "stdout",
          "text": [
            "[1, 2, 10, 3, 4, 5]\n"
          ]
        }
      ]
    },
    {
      "cell_type": "markdown",
      "source": [
        "Deleting Elements"
      ],
      "metadata": {
        "id": "wOZIwJ0aLCnd"
      }
    },
    {
      "cell_type": "code",
      "source": [
        "#Remove: Delete the first occurrence of an element.\n",
        "my_list = [1, 2, 3, 4, 5]\n",
        "my_list.remove(3)\n",
        "print(my_list)"
      ],
      "metadata": {
        "colab": {
          "base_uri": "https://localhost:8080/"
        },
        "id": "7kGAK8iiK8as",
        "outputId": "a6cd6301-5a6c-4583-f148-2f39aa261af4"
      },
      "execution_count": 8,
      "outputs": [
        {
          "output_type": "stream",
          "name": "stdout",
          "text": [
            "[1, 2, 4, 5]\n"
          ]
        }
      ]
    },
    {
      "cell_type": "code",
      "source": [
        "#op: Delete and return an element at a specific position.\n",
        "my_list = [1, 2, 3, 4, 5]\n",
        "print(my_list.pop(2))"
      ],
      "metadata": {
        "colab": {
          "base_uri": "https://localhost:8080/"
        },
        "id": "gSaqGKWVLLiq",
        "outputId": "eef21d46-dc0b-4c04-d5f4-2de7549fa6b7"
      },
      "execution_count": 9,
      "outputs": [
        {
          "output_type": "stream",
          "name": "stdout",
          "text": [
            "3\n"
          ]
        }
      ]
    },
    {
      "cell_type": "code",
      "source": [
        "print(my_list)"
      ],
      "metadata": {
        "colab": {
          "base_uri": "https://localhost:8080/"
        },
        "id": "E950v0UOLWT7",
        "outputId": "8e524b10-0496-4a05-e337-863c4cbeaa74"
      },
      "execution_count": 10,
      "outputs": [
        {
          "output_type": "stream",
          "name": "stdout",
          "text": [
            "[1, 2, 4, 5]\n"
          ]
        }
      ]
    },
    {
      "cell_type": "code",
      "source": [
        "#Del: Delete an element using the del statement.\n",
        "my_list = [1, 2, 3, 4, 5]\n",
        "del my_list[2]\n",
        "print(my_list)"
      ],
      "metadata": {
        "colab": {
          "base_uri": "https://localhost:8080/"
        },
        "id": "8px-so5qLZ-P",
        "outputId": "57f3c483-2187-4dd0-ee78-e32639cb9ee6"
      },
      "execution_count": 11,
      "outputs": [
        {
          "output_type": "stream",
          "name": "stdout",
          "text": [
            "[1, 2, 4, 5]\n"
          ]
        }
      ]
    },
    {
      "cell_type": "markdown",
      "source": [
        "Additional Methods"
      ],
      "metadata": {
        "id": "uxXngrv4Lokr"
      }
    },
    {
      "cell_type": "code",
      "source": [
        "#Extend: Add multiple elements.\n",
        "my_list = [1, 2, 3]\n",
        "my_list.extend([4, 5, 6])\n",
        "print(my_list)"
      ],
      "metadata": {
        "colab": {
          "base_uri": "https://localhost:8080/"
        },
        "id": "9a4r-Dk9LkTR",
        "outputId": "ddc321b7-7961-411c-f657-0484dcb82712"
      },
      "execution_count": 12,
      "outputs": [
        {
          "output_type": "stream",
          "name": "stdout",
          "text": [
            "[1, 2, 3, 4, 5, 6]\n"
          ]
        }
      ]
    },
    {
      "cell_type": "code",
      "source": [
        "#Sort: Sort the list in-place.\n",
        "my_list = [4, 2, 1, 3]\n",
        "my_list.sort()\n",
        "print(my_list)"
      ],
      "metadata": {
        "colab": {
          "base_uri": "https://localhost:8080/"
        },
        "id": "lZgKJNsFLx6w",
        "outputId": "67f33d68-ddb1-46f5-ea03-d070ccb342c2"
      },
      "execution_count": 13,
      "outputs": [
        {
          "output_type": "stream",
          "name": "stdout",
          "text": [
            "[1, 2, 3, 4]\n"
          ]
        }
      ]
    },
    {
      "cell_type": "code",
      "source": [
        "#Reverse: Reverse the list in-place.\n",
        "my_list = [1, 2, 3, 4]\n",
        "my_list.reverse()\n",
        "print(my_list)"
      ],
      "metadata": {
        "colab": {
          "base_uri": "https://localhost:8080/"
        },
        "id": "UAJKRXuML7p5",
        "outputId": "7a1fc120-387a-4b51-e858-0aeee70cb10b"
      },
      "execution_count": 14,
      "outputs": [
        {
          "output_type": "stream",
          "name": "stdout",
          "text": [
            "[4, 3, 2, 1]\n"
          ]
        }
      ]
    },
    {
      "cell_type": "markdown",
      "source": [
        "**Question-4 Compare and contrast tuples and lists with examples.**\n",
        "\n",
        "Answer\n",
        "\n",
        "Tuples and lists are two fundamental data structures in Python, sharing similarities but with key differences.\n",
        "\n",
        "Similarities:\n",
        "\n",
        "1. Ordered collections\n",
        "2. Indexed (0-based)\n",
        "3. Can store heterogeneous data types\n",
        "4. Support slicing and indexing\n",
        "\n",
        "Differences:\n",
        "\n",
        "1. Immutability: Tuples are immutable, while lists are mutable.\n",
        "2. Syntax: Tuples use parentheses (), lists use square brackets [].\n",
        "3. Performance: Tuples are faster and more memory-efficient.\n",
        "4. Use cases: Tuples for constant data, lists for dynamic data.\n",
        "\n",
        "Tuple Characteristics:\n",
        "\n",
        "1. Immutable\n",
        "2. Faster execution\n",
        "3. Memory-efficient\n",
        "4. Hashable (can be dictionary keys)\n",
        "\n",
        "List Characteristics:\n",
        "\n",
        "1. Mutable\n",
        "2. Slower execution\n",
        "3. Less memory-efficient\n",
        "4. Non-hashable (cannot be dictionary keys)\n",
        "\n",
        "Examples:"
      ],
      "metadata": {
        "id": "eYR9lwHjMhBm"
      }
    },
    {
      "cell_type": "code",
      "source": [
        "my_tuple = (1, 2, 3)\n",
        "print(my_tuple[0])"
      ],
      "metadata": {
        "colab": {
          "base_uri": "https://localhost:8080/"
        },
        "id": "i8q2V3SpNDym",
        "outputId": "43e6e075-e2c1-4c1f-cdd0-7165232c0022"
      },
      "execution_count": 15,
      "outputs": [
        {
          "output_type": "stream",
          "name": "stdout",
          "text": [
            "1\n"
          ]
        }
      ]
    },
    {
      "cell_type": "code",
      "source": [
        "my_tuple[0] = 10   # Error: Tuples are immutable\n"
      ],
      "metadata": {
        "colab": {
          "base_uri": "https://localhost:8080/",
          "height": 141
        },
        "id": "YosKNXl-NGRn",
        "outputId": "ed27761b-0532-49fd-c226-4ad0543b7c27"
      },
      "execution_count": 16,
      "outputs": [
        {
          "output_type": "error",
          "ename": "TypeError",
          "evalue": "'tuple' object does not support item assignment",
          "traceback": [
            "\u001b[0;31m---------------------------------------------------------------------------\u001b[0m",
            "\u001b[0;31mTypeError\u001b[0m                                 Traceback (most recent call last)",
            "\u001b[0;32m<ipython-input-16-b455177814b8>\u001b[0m in \u001b[0;36m<cell line: 1>\u001b[0;34m()\u001b[0m\n\u001b[0;32m----> 1\u001b[0;31m \u001b[0mmy_tuple\u001b[0m\u001b[0;34m[\u001b[0m\u001b[0;36m0\u001b[0m\u001b[0;34m]\u001b[0m \u001b[0;34m=\u001b[0m \u001b[0;36m10\u001b[0m\u001b[0;34m\u001b[0m\u001b[0;34m\u001b[0m\u001b[0m\n\u001b[0m",
            "\u001b[0;31mTypeError\u001b[0m: 'tuple' object does not support item assignment"
          ]
        }
      ]
    },
    {
      "cell_type": "code",
      "source": [
        "#List:\n",
        "\n",
        "my_list = [1, 2, 3]\n",
        "print(my_list[0])\n"
      ],
      "metadata": {
        "colab": {
          "base_uri": "https://localhost:8080/"
        },
        "id": "w9JHbO7INQGX",
        "outputId": "ef69bd89-5763-4be3-fe39-b0bd11dc4196"
      },
      "execution_count": 20,
      "outputs": [
        {
          "output_type": "stream",
          "name": "stdout",
          "text": [
            "1\n"
          ]
        }
      ]
    },
    {
      "cell_type": "code",
      "source": [
        "my_list[0] = 10\n",
        "print(my_list)"
      ],
      "metadata": {
        "colab": {
          "base_uri": "https://localhost:8080/"
        },
        "id": "IAg_QKDuNg4O",
        "outputId": "6b4fe4c7-162b-4320-e04c-6de832f55f03"
      },
      "execution_count": 18,
      "outputs": [
        {
          "output_type": "stream",
          "name": "stdout",
          "text": [
            "[10, 3, 2, 1]\n"
          ]
        }
      ]
    },
    {
      "cell_type": "markdown",
      "source": [
        "Use Cases:\n",
        "\n",
        "Tuples:\n",
        "\n",
        "1.Constant data\n",
        "\n",
        "2.Dictionary keys\n",
        "\n",
        "3.Function arguments\n",
        "\n",
        "4.Data that shouldn't change\n",
        "\n",
        "\n",
        "Lists:\n",
        "\n",
        "1.Dynamic data\n",
        "\n",
        "2.User input\n",
        "\n",
        "3.Data that needs modification\n",
        "\n",
        "4.Large datasets\n",
        "\n",
        "\n",
        "\n",
        "\n"
      ],
      "metadata": {
        "id": "mssscUNdNwUP"
      }
    },
    {
      "cell_type": "markdown",
      "source": [
        "**Question-5 Describe the key features of sets and provide examples of their use.**\n",
        "\n",
        "Answer\n",
        "\n",
        "Sets are an essential data structure in Python, providing efficient and effective ways to store and manipulate unique elements.\n",
        "\n",
        "Key Features of Sets:\n",
        "\n",
        "1. Unordered collection\n",
        "2. Unique elements (no duplicates)\n",
        "3. Mutable (can be modified)\n",
        "4. Fast membership testing\n",
        "5. Support for set operations (union, intersection, difference)\n",
        "\n",
        "Set Operations:\n",
        "\n",
        "1. Union (|): Combines elements from two sets.\n",
        "2. Intersection (&): Returns common elements between two sets.\n",
        "3. Difference (-): Returns elements in one set but not the other.\n",
        "4. Symmetric Difference (^): Returns elements in either set but not both.\n",
        "\n",
        "Examples:"
      ],
      "metadata": {
        "id": "DngmU0zwOHDw"
      }
    },
    {
      "cell_type": "code",
      "source": [
        "#Creating Sets:\n",
        "\n",
        "\n",
        "my_set = {1, 2, 3, 4, 5}\n",
        "print(my_set)"
      ],
      "metadata": {
        "colab": {
          "base_uri": "https://localhost:8080/"
        },
        "id": "QPjCBboONkvx",
        "outputId": "fcaf6d7e-910d-4c95-ed56-c2be7c4fb4e0"
      },
      "execution_count": 21,
      "outputs": [
        {
          "output_type": "stream",
          "name": "stdout",
          "text": [
            "{1, 2, 3, 4, 5}\n"
          ]
        }
      ]
    },
    {
      "cell_type": "code",
      "source": [
        "#Adding Elements:\n",
        "\n",
        "my_set.add(6)\n",
        "print(my_set)"
      ],
      "metadata": {
        "colab": {
          "base_uri": "https://localhost:8080/"
        },
        "id": "8bOMVXOQOkAt",
        "outputId": "c8954127-cddd-414e-edd4-9a39d39b7924"
      },
      "execution_count": 22,
      "outputs": [
        {
          "output_type": "stream",
          "name": "stdout",
          "text": [
            "{1, 2, 3, 4, 5, 6}\n"
          ]
        }
      ]
    },
    {
      "cell_type": "code",
      "source": [
        "#Removing Elements:\n",
        "\n",
        "my_set.remove(4)\n",
        "print(my_set)"
      ],
      "metadata": {
        "colab": {
          "base_uri": "https://localhost:8080/"
        },
        "id": "0EBYKyZ4OyzW",
        "outputId": "019e4e44-b675-4abd-f17b-b78e7751cefd"
      },
      "execution_count": 24,
      "outputs": [
        {
          "output_type": "stream",
          "name": "stdout",
          "text": [
            "{1, 2, 3, 5, 6}\n"
          ]
        }
      ]
    },
    {
      "cell_type": "code",
      "source": [
        "#Set Operations:\n",
        "\n",
        "set1 = {1, 2, 3}\n",
        "set2 = {3, 4, 5}"
      ],
      "metadata": {
        "id": "piRUm2uiO6Li"
      },
      "execution_count": 25,
      "outputs": []
    },
    {
      "cell_type": "code",
      "source": [
        "##(union)\n",
        "print(set1 | set2)"
      ],
      "metadata": {
        "colab": {
          "base_uri": "https://localhost:8080/"
        },
        "id": "wwi-HcU-PJHV",
        "outputId": "216bf497-bc4d-4bec-a9f5-2532865e2994"
      },
      "execution_count": 30,
      "outputs": [
        {
          "output_type": "stream",
          "name": "stdout",
          "text": [
            "{1, 2, 3, 4, 5}\n"
          ]
        }
      ]
    },
    {
      "cell_type": "code",
      "source": [
        "##(intersection)\n",
        "print(set1 & set2)"
      ],
      "metadata": {
        "colab": {
          "base_uri": "https://localhost:8080/"
        },
        "id": "Y1KBaOwePP-d",
        "outputId": "47c2a09f-792a-4ace-c0ca-2af814a5ea55"
      },
      "execution_count": 29,
      "outputs": [
        {
          "output_type": "stream",
          "name": "stdout",
          "text": [
            "{3}\n"
          ]
        }
      ]
    },
    {
      "cell_type": "code",
      "source": [
        "##(difference)\n",
        "print(set1 - set2)"
      ],
      "metadata": {
        "colab": {
          "base_uri": "https://localhost:8080/"
        },
        "id": "HZcmfExtPXhA",
        "outputId": "acd54581-987c-4f24-cee6-0da4886f52d5"
      },
      "execution_count": 31,
      "outputs": [
        {
          "output_type": "stream",
          "name": "stdout",
          "text": [
            "{1, 2}\n"
          ]
        }
      ]
    },
    {
      "cell_type": "code",
      "source": [
        "##(symmetric difference)\n",
        "print(set1 ^ set2)"
      ],
      "metadata": {
        "colab": {
          "base_uri": "https://localhost:8080/"
        },
        "id": "9XSD_RdrP2Vp",
        "outputId": "1eb2fe30-2615-4d5c-fdd5-a5ad4decc12d"
      },
      "execution_count": 32,
      "outputs": [
        {
          "output_type": "stream",
          "name": "stdout",
          "text": [
            "{1, 2, 4, 5}\n"
          ]
        }
      ]
    },
    {
      "cell_type": "markdown",
      "source": [
        "Real-World Applications:\n",
        "\n",
        "1. Data deduplication\n",
        "2. Membership testing\n",
        "3. Data filtering\n",
        "4. Set-based data analysis\n",
        "5. Database query optimization\n",
        "\n",
        "Use Cases:\n",
        "\n",
        "1. Removing duplicates from a list\n",
        "2. Finding common elements between lists\n",
        "3. Identifying unique elements in a dataset\n",
        "4. Optimizing database queries\n",
        "5. Implementing set-based algorithms\n",
        "\n",
        "\n",
        "\n",
        "\n",
        "\n",
        "\n",
        "\n"
      ],
      "metadata": {
        "id": "4Igy8IdmQGw0"
      }
    },
    {
      "cell_type": "markdown",
      "source": [
        "**Question-6 Discuss the use cases of tuples and sets in Python programming.**\n",
        "\n",
        "\n",
        "Answer\n",
        "\n",
        "Tuples and sets are essential data structures in Python, serving various purposes.\n",
        "\n",
        "Tuples:\n",
        "\n",
        "Use Cases:\n",
        "\n",
        "1. Constant data: Store data that shouldn't change.\n",
        "2. Function arguments: Pass multiple arguments efficiently.\n",
        "3. Dictionary keys: Use tuples as keys due to their immutability.\n",
        "4. Data integrity: Ensure data consistency and accuracy.\n",
        "5. Performance-critical code: Tuples are faster than lists.\n",
        "6. Named tuples: Create lightweight, named objects.\n",
        "7. Data exchange: Use tuples for inter-process communication.\n",
        "\n",
        "Examples:\n",
        "\n",
        "1. Color RGB values: (255, 0, 0) for red.\n",
        "2. Geographical coordinates: (latitude, longitude) .\n",
        "3. Database query results: (id, name, email) .\n",
        "\n",
        "Sets:\n",
        "\n",
        "Use Cases:\n",
        "\n",
        "1. Unique data: Eliminate duplicates.\n",
        "2. Membership testing: Check if an element exists.\n",
        "3. Data deduplication: Remove duplicates from lists.\n",
        "4. Set operations: Perform union, intersection, difference.\n",
        "5. Data filtering: Use sets to filter data.\n",
        "6. Database query optimization: Reduce query results.\n",
        "7. Mathematical operations: Perform set-based calculations.\n",
        "\n",
        "Examples:\n",
        "\n",
        "1. Unique user IDs: {1, 2, 3, 4, 5}.\n",
        "2. Product categories: {\"electronics\", \"clothing\"}.\n",
        "3. Permission management: { \"read\", \"write\", \"execute\"}.\n",
        "\n",
        "Common Applications:\n",
        "\n",
        "1. Data analysis and science\n",
        "2. Database management\n",
        "3. Machine learning and AI\n",
        "4. Network programming\n",
        "\n",
        "\n",
        "\n",
        "\n",
        "\n",
        "\n"
      ],
      "metadata": {
        "id": "r9s_0FMvQMWE"
      }
    },
    {
      "cell_type": "markdown",
      "source": [
        "**Question-7   Describe how to add, modify, and delete items in a dictionary with examples.**\n",
        "\n",
        "Answer\n",
        "\n",
        "\n",
        "Here's how to add, modify, and delete items in a dictionary:\n",
        "\n",
        "Adding Items\n",
        "\n",
        "\n"
      ],
      "metadata": {
        "id": "1p2DG42gQypO"
      }
    },
    {
      "cell_type": "code",
      "source": [
        "#Direct Assignment\n",
        "\n",
        "\n",
        "my_dict = {\"name\": \"John\", \"age\": 30}\n",
        "my_dict[\"city\"] = \"New York\"\n",
        "print(my_dict)"
      ],
      "metadata": {
        "colab": {
          "base_uri": "https://localhost:8080/"
        },
        "id": "UBet6uxmP8JB",
        "outputId": "ccc14475-9e46-4b07-fc27-c57fb1cc2821"
      },
      "execution_count": 33,
      "outputs": [
        {
          "output_type": "stream",
          "name": "stdout",
          "text": [
            "{'name': 'John', 'age': 30, 'city': 'New York'}\n"
          ]
        }
      ]
    },
    {
      "cell_type": "code",
      "source": [
        "#update() Method\n",
        "\n",
        "\n",
        "my_dict = {\"name\": \"John\", \"age\": 30}\n",
        "my_dict.update({\"city\": \"New York\", \"country\": \"USA\"})\n",
        "print(my_dict)"
      ],
      "metadata": {
        "colab": {
          "base_uri": "https://localhost:8080/"
        },
        "id": "9AmOiADNRXnd",
        "outputId": "9c6c9bd7-c85c-4a2e-86b1-c784460c8781"
      },
      "execution_count": 34,
      "outputs": [
        {
          "output_type": "stream",
          "name": "stdout",
          "text": [
            "{'name': 'John', 'age': 30, 'city': 'New York', 'country': 'USA'}\n"
          ]
        }
      ]
    },
    {
      "cell_type": "code",
      "source": [
        "#setdefault() Method\n",
        "\n",
        "\n",
        "my_dict = {\"name\": \"John\", \"age\": 30}\n",
        "my_dict.setdefault(\"city\", \"New York\")\n",
        "print(my_dict)"
      ],
      "metadata": {
        "colab": {
          "base_uri": "https://localhost:8080/"
        },
        "id": "XT_SFXdxRf9f",
        "outputId": "f73fc95b-2f88-4263-bbca-090849f57483"
      },
      "execution_count": 35,
      "outputs": [
        {
          "output_type": "stream",
          "name": "stdout",
          "text": [
            "{'name': 'John', 'age': 30, 'city': 'New York'}\n"
          ]
        }
      ]
    },
    {
      "cell_type": "code",
      "source": [
        "#Modifying Items\n",
        "\n",
        "##Direct Assignment\n",
        "\n",
        "\n",
        "my_dict = {\"name\": \"John\", \"age\": 30}\n",
        "my_dict[\"age\"] = 31\n",
        "print(my_dict)"
      ],
      "metadata": {
        "colab": {
          "base_uri": "https://localhost:8080/"
        },
        "id": "U59hZ5G0Rqnj",
        "outputId": "f1c9ef64-5085-4e16-d83b-1429f93780d3"
      },
      "execution_count": 36,
      "outputs": [
        {
          "output_type": "stream",
          "name": "stdout",
          "text": [
            "{'name': 'John', 'age': 31}\n"
          ]
        }
      ]
    },
    {
      "cell_type": "code",
      "source": [
        "##update() Method\n",
        "\n",
        "\n",
        "my_dict = {\"name\": \"John\", \"age\": 30}\n",
        "my_dict.update({\"age\": 31})\n",
        "print(my_dict)"
      ],
      "metadata": {
        "colab": {
          "base_uri": "https://localhost:8080/"
        },
        "id": "ba1-sPZdR0Xy",
        "outputId": "3449e8c1-2c64-4e5f-e84e-244b58e77d6b"
      },
      "execution_count": 37,
      "outputs": [
        {
          "output_type": "stream",
          "name": "stdout",
          "text": [
            "{'name': 'John', 'age': 31}\n"
          ]
        }
      ]
    },
    {
      "cell_type": "code",
      "source": [
        "#Deleting Items\n",
        "\n",
        "##del Statement\n",
        "\n",
        "\n",
        "my_dict = {\"name\": \"John\", \"age\": 30}\n",
        "del my_dict[\"age\"]\n",
        "print(my_dict)"
      ],
      "metadata": {
        "colab": {
          "base_uri": "https://localhost:8080/"
        },
        "id": "MupUd5vGR9xv",
        "outputId": "bb4f3580-3f69-48e8-fcaf-0e8aec818771"
      },
      "execution_count": 38,
      "outputs": [
        {
          "output_type": "stream",
          "name": "stdout",
          "text": [
            "{'name': 'John'}\n"
          ]
        }
      ]
    },
    {
      "cell_type": "code",
      "source": [
        "##pop() Method\n",
        "\n",
        "\n",
        "my_dict = {\"name\": \"John\", \"age\": 30}\n",
        "my_dict.pop(\"age\")\n",
        "print(my_dict)"
      ],
      "metadata": {
        "colab": {
          "base_uri": "https://localhost:8080/"
        },
        "id": "HjxYuBb4SG_A",
        "outputId": "d96c7c5d-802c-4154-ee55-ec53d38258d3"
      },
      "execution_count": 39,
      "outputs": [
        {
          "output_type": "stream",
          "name": "stdout",
          "text": [
            "{'name': 'John'}\n"
          ]
        }
      ]
    },
    {
      "cell_type": "code",
      "source": [
        "##popitem() Method (removes last inserted item)\n",
        "\n",
        "\n",
        "my_dict = {\"name\": \"John\", \"age\": 30}\n",
        "my_dict.popitem()\n",
        "print(my_dict)"
      ],
      "metadata": {
        "colab": {
          "base_uri": "https://localhost:8080/"
        },
        "id": "WkU9tnzZSQCV",
        "outputId": "637fe78a-cc0f-4674-f2f9-198f97e842ad"
      },
      "execution_count": 40,
      "outputs": [
        {
          "output_type": "stream",
          "name": "stdout",
          "text": [
            "{'name': 'John'}\n"
          ]
        }
      ]
    },
    {
      "cell_type": "code",
      "source": [
        "##clear() Method (removes all items)\n",
        "\n",
        "\n",
        "my_dict = {\"name\": \"John\", \"age\": 30}\n",
        "my_dict.clear()\n",
        "print(my_dict)"
      ],
      "metadata": {
        "colab": {
          "base_uri": "https://localhost:8080/"
        },
        "id": "PYw6koDTSYgo",
        "outputId": "248b51d6-a06c-4b83-9990-f63c0fa2805e"
      },
      "execution_count": 41,
      "outputs": [
        {
          "output_type": "stream",
          "name": "stdout",
          "text": [
            "{}\n"
          ]
        }
      ]
    },
    {
      "cell_type": "code",
      "source": [
        "##Additional Methods\n",
        "\n",
        "##keys(): Returns a view object displaying dictionary keys.\n",
        "\n",
        "\n",
        "my_dict = {\"name\": \"John\", \"age\": 30}\n",
        "print(my_dict.keys())"
      ],
      "metadata": {
        "colab": {
          "base_uri": "https://localhost:8080/"
        },
        "id": "YrrNFQV6Sk_2",
        "outputId": "603f221e-a607-4f97-f1d9-641c26ddcd71"
      },
      "execution_count": 42,
      "outputs": [
        {
          "output_type": "stream",
          "name": "stdout",
          "text": [
            "dict_keys(['name', 'age'])\n"
          ]
        }
      ]
    },
    {
      "cell_type": "code",
      "source": [
        "##values(): Returns a view object displaying dictionary values.\n",
        "\n",
        "\n",
        "my_dict = {\"name\": \"John\", \"age\": 30}\n",
        "print(my_dict.values())"
      ],
      "metadata": {
        "colab": {
          "base_uri": "https://localhost:8080/"
        },
        "id": "uGecl4ruSxOW",
        "outputId": "65f68f0f-3377-446d-8b34-41f1a3066b61"
      },
      "execution_count": 43,
      "outputs": [
        {
          "output_type": "stream",
          "name": "stdout",
          "text": [
            "dict_values(['John', 30])\n"
          ]
        }
      ]
    },
    {
      "cell_type": "code",
      "source": [
        "##items(): Returns a view object displaying dictionary key-value pairs.\n",
        "\n",
        "\n",
        "my_dict = {\"name\": \"John\", \"age\": 30}\n",
        "print(my_dict.items())"
      ],
      "metadata": {
        "colab": {
          "base_uri": "https://localhost:8080/"
        },
        "id": "Myoijf9sS5s6",
        "outputId": "3d19368a-061b-4ac1-9f0c-a6e72640cf08"
      },
      "execution_count": 44,
      "outputs": [
        {
          "output_type": "stream",
          "name": "stdout",
          "text": [
            "dict_items([('name', 'John'), ('age', 30)])\n"
          ]
        }
      ]
    },
    {
      "cell_type": "markdown",
      "source": [
        "**Question-8  Discuss the importance of dictionary keys being immutable and provide examples.**\n",
        "\n",
        "Answer\n",
        "\n",
        "\n",
        "In Python, dictionary keys must be immutable, meaning they cannot be changed after creation. This requirement ensures efficient and reliable dictionary operations.\n",
        "\n",
        "Why Immutability Matters:\n",
        "\n",
        "1. Hashing: Dictionaries rely on hashing to store and retrieve key-value pairs efficiently. Immutable keys ensure consistent hash values, enabling fast lookups.\n",
        "2. Uniqueness: Immutability guarantees unique keys, preventing duplicate entries and ensuring accurate data storage.\n",
        "3. Thread Safety: Immutable keys ensure thread safety, allowing multiple threads to access dictionaries without fear of key modifications.\n",
        "\n",
        "Immutable Key Types:\n",
        "\n",
        "1. Integers (int)\n",
        "2. Floats (float)\n",
        "3. Strings (str)\n",
        "4. Tuples (tuple)\n",
        "5. Frozensets (frozenset)\n",
        "6. Bytes (bytes)\n",
        "\n",
        "Mutable Key Types (Not Allowed):\n",
        "\n",
        "1. Lists (list)\n",
        "2. Dictionaries (dict)\n",
        "3. Sets (set)\n",
        "\n",
        "Examples:"
      ],
      "metadata": {
        "id": "uiKSAUguTu1t"
      }
    },
    {
      "cell_type": "code",
      "source": [
        "##Valid Immutable Keys:\n",
        "\n",
        "\n",
        "my_dict = {1: \"value1\",\"key2\": \"value2\",(1, 2): \"value3\",\"hello\": \"value4\"}"
      ],
      "metadata": {
        "id": "JPbZtRdzTEaV"
      },
      "execution_count": 46,
      "outputs": []
    },
    {
      "cell_type": "code",
      "source": [
        "my_dict"
      ],
      "metadata": {
        "colab": {
          "base_uri": "https://localhost:8080/"
        },
        "id": "YdS_E2wZUTKN",
        "outputId": "455f3305-09b3-4e0f-db0e-480483172f62"
      },
      "execution_count": 47,
      "outputs": [
        {
          "output_type": "execute_result",
          "data": {
            "text/plain": [
              "{1: 'value1', 'key2': 'value2', (1, 2): 'value3', 'hello': 'value4'}"
            ]
          },
          "metadata": {},
          "execution_count": 47
        }
      ]
    },
    {
      "cell_type": "code",
      "source": [
        "##Invalid Mutable Keys:\n",
        "\n",
        "my_dict = { [1, 2]: \"value1\", {\"a\": 1}: \"value2\", {1, 2}: \"value3\" }"
      ],
      "metadata": {
        "colab": {
          "base_uri": "https://localhost:8080/",
          "height": 176
        },
        "id": "WV-DeAi7UisH",
        "outputId": "d586a2ea-81fd-41a8-b99c-a520c158deb1"
      },
      "execution_count": 48,
      "outputs": [
        {
          "output_type": "error",
          "ename": "TypeError",
          "evalue": "unhashable type: 'list'",
          "traceback": [
            "\u001b[0;31m---------------------------------------------------------------------------\u001b[0m",
            "\u001b[0;31mTypeError\u001b[0m                                 Traceback (most recent call last)",
            "\u001b[0;32m<ipython-input-48-07e51e666e03>\u001b[0m in \u001b[0;36m<cell line: 3>\u001b[0;34m()\u001b[0m\n\u001b[1;32m      1\u001b[0m \u001b[0;31m##Invalid Mutable Keys:\u001b[0m\u001b[0;34m\u001b[0m\u001b[0;34m\u001b[0m\u001b[0m\n\u001b[1;32m      2\u001b[0m \u001b[0;34m\u001b[0m\u001b[0m\n\u001b[0;32m----> 3\u001b[0;31m \u001b[0mmy_dict\u001b[0m \u001b[0;34m=\u001b[0m \u001b[0;34m{\u001b[0m \u001b[0;34m[\u001b[0m\u001b[0;36m1\u001b[0m\u001b[0;34m,\u001b[0m \u001b[0;36m2\u001b[0m\u001b[0;34m]\u001b[0m\u001b[0;34m:\u001b[0m \u001b[0;34m\"value1\"\u001b[0m\u001b[0;34m,\u001b[0m \u001b[0;34m{\u001b[0m\u001b[0;34m\"a\"\u001b[0m\u001b[0;34m:\u001b[0m \u001b[0;36m1\u001b[0m\u001b[0;34m}\u001b[0m\u001b[0;34m:\u001b[0m \u001b[0;34m\"value2\"\u001b[0m\u001b[0;34m,\u001b[0m \u001b[0;34m{\u001b[0m\u001b[0;36m1\u001b[0m\u001b[0;34m,\u001b[0m \u001b[0;36m2\u001b[0m\u001b[0;34m}\u001b[0m\u001b[0;34m:\u001b[0m \u001b[0;34m\"value3\"\u001b[0m \u001b[0;34m}\u001b[0m\u001b[0;34m\u001b[0m\u001b[0;34m\u001b[0m\u001b[0m\n\u001b[0m",
            "\u001b[0;31mTypeError\u001b[0m: unhashable type: 'list'"
          ]
        }
      ]
    },
    {
      "cell_type": "markdown",
      "source": [
        "Consequences of Mutable Keys:\n",
        "\n",
        "1.TypeError: Attempting to use mutable keys raises a TypeError.\n",
        "\n",
        "2.Data Corruption: Modifying keys can lead to data corruption or loss.\n",
        "\n",
        "3.Performance Issues: Mutable keys can cause dictionary operations to become inefficient."
      ],
      "metadata": {
        "id": "bXWKUx2BU2mk"
      }
    },
    {
      "cell_type": "code",
      "source": [],
      "metadata": {
        "id": "zjilrRCgUvtB"
      },
      "execution_count": null,
      "outputs": []
    }
  ]
}