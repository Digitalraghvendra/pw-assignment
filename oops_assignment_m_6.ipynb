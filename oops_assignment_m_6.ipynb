{
  "nbformat": 4,
  "nbformat_minor": 0,
  "metadata": {
    "colab": {
      "provenance": [],
      "toc_visible": true
    },
    "kernelspec": {
      "name": "python3",
      "display_name": "Python 3"
    },
    "language_info": {
      "name": "python"
    }
  },
  "cells": [
    {
      "cell_type": "markdown",
      "source": [
        "# ***OOPS ASSIGNMENT***\n",
        "\n",
        "Question-1  What are the five key concepts of Object-Oriented Programming (OOP)?\n",
        "\n",
        "\n",
        "Answer-\n",
        "The five key concepts of Object-Oriented Programming (OOP) are:\n",
        "\n",
        "1. Encapsulation: This concept binds data and methods that manipulate that data into a single unit, called a class or object. Encapsulation helps protect the data from external interference and misuse.\n",
        "\n",
        "2. Abstraction: Abstraction involves showing only the necessary information to the outside world while hiding the implementation details. This concept helps reduce complexity and improves modularity.\n",
        "\n",
        "3. Inheritance: Inheritance allows one class to inherit the properties and behavior of another class. The child class inherits all the fields and methods of the parent class and can also add new fields and methods or override the ones inherited from the parent class.\n",
        "\n",
        "4. Polymorphism: Polymorphism is the ability of an object to take on multiple forms. This can be achieved through method overloading (multiple methods with the same name but different parameters) or method overriding (a child class providing a different implementation of a method already defined in its parent class).\n",
        "\n",
        "5. Composition: Composition is a concept that allows objects to contain other objects or collections of objects. This enables the creation of complex objects from simpler ones, promoting reusability and modularity.\n",
        "\n",
        "These five key concepts form the foundation of Object-Oriented Programming and enable developers to create robust, scalable, and maintainable software systems.\n",
        "\n",
        "\n",
        "\n",
        "\n",
        "\n",
        "Question-2  Write a Python class for a Car with attributes for \"make\", \"model\", and \"year\". Include a method to display the car's information."
      ],
      "metadata": {
        "id": "HDU2n-dq7AVD"
      }
    },
    {
      "cell_type": "code",
      "source": [
        "class Car:\n",
        "    \"\"\"\n",
        "    A class representing a Car with attributes for make, model, and year.\n",
        "    \"\"\"\n",
        "\n",
        "    def __init__(self, make, model, year):\n",
        "        \"\"\"\n",
        "        Initializes a Car object with the given make, model, and year.\n",
        "\n",
        "        Args:\n",
        "            make (str): The car's make.\n",
        "            model (str): The car's model.\n",
        "            year (int): The car's year.\n",
        "        \"\"\"\n",
        "        self.make = make\n",
        "        self.model = model\n",
        "        self.year = year\n",
        "\n",
        "    def display_info(self):\n",
        "        \"\"\"\n",
        "        Displays the car's information.\n",
        "        \"\"\"\n",
        "        print(f\"Make: {self.make}\")\n",
        "        print(f\"Model: {self.model}\")\n",
        "        print(f\"Year: {self.year}\")\n",
        "\n",
        "# Example usage:\n",
        "my_car = Car(\"Toyota\", \"Camry\", 2020)\n",
        "my_car.display_info()\n",
        "\n",
        "\n"
      ],
      "metadata": {
        "colab": {
          "base_uri": "https://localhost:8080/",
          "height": 0
        },
        "id": "uv51mM1u8Lt8",
        "outputId": "f66b4265-3a19-4815-fb21-f0c5351d5456"
      },
      "execution_count": 1,
      "outputs": [
        {
          "output_type": "stream",
          "name": "stdout",
          "text": [
            "Make: Toyota\n",
            "Model: Camry\n",
            "Year: 2020\n"
          ]
        }
      ]
    },
    {
      "cell_type": "markdown",
      "source": [
        "This code defines a Car class with the following attributes:\n",
        "\n",
        "- make: The car's make.\n",
        "- model: The car's model.\n",
        "- year: The car's year.\n",
        "\n",
        "The display_info method prints out the car's information. The example usage demonstrates how to create a Car object and display its information.\n",
        "\n",
        "\n",
        "\n",
        "\n",
        ".\n",
        "\n",
        "\n",
        "Question-3 Explain the difference between instance methods and class methods. Provide an example of each.\n",
        "\n",
        "\n",
        "Answer-\n",
        "In object-oriented programming (OOP), methods are functions that belong to a class or an instance of a class. There are two types of methods: instance methods and class methods.\n",
        "\n",
        "Instance Methods:\n",
        "\n",
        "Instance methods are methods that belong to an instance of a class. They have access to the instance's attributes and can modify them. Instance methods are used to perform actions that are specific to an individual instance of a class.\n",
        "\n",
        "Example:\n",
        "\n",
        "\n",
        "\n",
        "\n"
      ],
      "metadata": {
        "id": "FueEolvr8XIh"
      }
    },
    {
      "cell_type": "code",
      "source": [
        "class Car:\n",
        "    def __init__(self, color):\n",
        "        self.color = color\n",
        "\n",
        "    def honk(self):\n",
        "        print(f\"The {self.color} car honks!\")\n",
        "\n",
        "my_car = Car(\"red\")\n",
        "my_car.honk()"
      ],
      "metadata": {
        "colab": {
          "base_uri": "https://localhost:8080/",
          "height": 0
        },
        "id": "eL9aFrjP8SZI",
        "outputId": "4a2ecee3-1db7-4871-e218-203a1c198aa1"
      },
      "execution_count": 2,
      "outputs": [
        {
          "output_type": "stream",
          "name": "stdout",
          "text": [
            "The red car honks!\n"
          ]
        }
      ]
    },
    {
      "cell_type": "markdown",
      "source": [
        "In this example, honk is an instance method that belongs to the my_car instance of the Car class. It has access to the color attribute of the instance and uses it to print a message.\n",
        "\n",
        "Class Methods:\n",
        "\n",
        "Class methods are methods that belong to a class itself, rather than to an instance of the class. They have access to the class's attributes and can modify them. Class methods are used to perform actions that are related to the class as a whole, rather than to individual instances.\n",
        "\n",
        "Example:"
      ],
      "metadata": {
        "id": "Boek_-0_8_8L"
      }
    },
    {
      "cell_type": "code",
      "source": [
        "class Car:\n",
        "    num_cars = 0\n",
        "\n",
        "    def __init__(self, color):\n",
        "        self.color = color\n",
        "        Car.num_cars += 1\n",
        "\n",
        "    @classmethod\n",
        "    def get_num_cars(cls):\n",
        "        return cls.num_cars\n",
        "\n",
        "my_car1 = Car(\"red\")\n",
        "my_car2 = Car(\"blue\")\n",
        "\n",
        "print(Car.get_num_cars())"
      ],
      "metadata": {
        "id": "YTd75CNK9Rf-"
      },
      "execution_count": null,
      "outputs": []
    },
    {
      "cell_type": "markdown",
      "source": [
        "In this example, get_num_cars is a class method that belongs to the Car class. It has access to the num_cars attribute of the class and returns its value. The @classmethod decorator is used to indicate that this method is a class method.\n",
        "\n",
        "Note that class methods can also be used as alternative constructors, which can be useful in certain situations."
      ],
      "metadata": {
        "id": "VVGqDjbl9RK7"
      }
    },
    {
      "cell_type": "markdown",
      "source": [
        "Question-4  How does Python implement method overloading? Give an example."
      ],
      "metadata": {
        "id": "FmVDmRvv9dPv"
      }
    },
    {
      "cell_type": "markdown",
      "source": [
        "Answer-\n",
        "Python does not support method overloading in the classical sense, unlike languages such as Java or C++. In Python, method overloading is achieved through optional arguments and default values.\n",
        "\n",
        "Here's an example:\n",
        "\n"
      ],
      "metadata": {
        "id": "Uhc6XnPr9mlk"
      }
    },
    {
      "cell_type": "code",
      "source": [
        "class Calculator:\n",
        "    def calculate(self, *args):\n",
        "        if len(args) == 1:\n",
        "            return args[0] ** 2\n",
        "        elif len(args) == 2:\n",
        "            return args[0] + args[1]\n",
        "        else:\n",
        "            raise ValueError(\"Invalid number of arguments\")\n",
        "\n",
        "calculator = Calculator()\n",
        "print(calculator.calculate(5))\n",
        "print(calculator.calculate(5, 10))\n"
      ],
      "metadata": {
        "colab": {
          "base_uri": "https://localhost:8080/",
          "height": 0
        },
        "id": "0HQv1wWs9zYN",
        "outputId": "899f0e56-37cc-4e21-9823-eec1c9cb6fbf"
      },
      "execution_count": 3,
      "outputs": [
        {
          "output_type": "stream",
          "name": "stdout",
          "text": [
            "25\n",
            "15\n"
          ]
        }
      ]
    },
    {
      "cell_type": "markdown",
      "source": [
        "In this example, the calculate method can take either one or two arguments. The *args syntax allows the method to accept a variable number of arguments. The method then uses the len function to determine the number of arguments passed and performs the corresponding calculation.\n",
        "\n",
        "Another way to achieve method overloading in Python is by using the **kwargs syntax to accept keyword arguments. Here's an example:"
      ],
      "metadata": {
        "id": "_TiCgjHY95mQ"
      }
    },
    {
      "cell_type": "code",
      "source": [
        "class Calculator:\n",
        "    def calculate(self, **kwargs):\n",
        "        if 'square' in kwargs:\n",
        "            return kwargs['square'] ** 2\n",
        "        elif 'add' in kwargs and 'num1' in kwargs and 'num2' in kwargs:\n",
        "            return kwargs['num1'] + kwargs['num2']\n",
        "        else:\n",
        "            raise ValueError(\"Invalid keyword arguments\")\n",
        "\n",
        "calculator = Calculator()\n",
        "print(calculator.calculate(square=5))\n",
        "print(calculator.calculate(add=True, num1=5, num2=10))\n"
      ],
      "metadata": {
        "colab": {
          "base_uri": "https://localhost:8080/",
          "height": 0
        },
        "id": "nAbmWRXr91_e",
        "outputId": "6bddd419-d047-4c5b-eac8-e765f2ff1faf"
      },
      "execution_count": 4,
      "outputs": [
        {
          "output_type": "stream",
          "name": "stdout",
          "text": [
            "25\n",
            "15\n"
          ]
        }
      ]
    },
    {
      "cell_type": "markdown",
      "source": [
        "In this example, the calculate method accepts keyword arguments using the **kwargs syntax. The method then checks for specific keyword arguments and performs the corresponding calculation."
      ],
      "metadata": {
        "id": "tki_QOes-Fiv"
      }
    },
    {
      "cell_type": "markdown",
      "source": [
        "Question-5   What are the three types of access modifiers in Python? How are they denoted?\n",
        "\n",
        "\n",
        "Answer-\n",
        "Python has three types of access modifiers:\n",
        "\n",
        "1. Public Access Modifier: In Python, all variables and methods are public by default. Public members can be accessed from anywhere in the program. They are denoted by no prefix or underscore.\n",
        "\n",
        "1. Protected Access Modifier: Protected members are intended to be used within the class itself or by its subclasses. They are denoted by a single underscore prefix (e.g., _variable or _method()). While Python does not enforce access control for protected members, it serves as a convention to indicate that the member should not be accessed directly from outside the class.\n",
        "\n",
        "2. Private Access Modifier: Private members are intended to be used within the class itself only. They are denoted by a double underscore prefix (e.g., __variable or __method()). Python internally changes the name of the private member to include the class name, making it more difficult to access from outside the class. However, this is not a strict access control mechanism, and private members can still be accessed using their mangled name (e.g., _classname__variable)."
      ],
      "metadata": {
        "id": "ooHIozYk-GaC"
      }
    },
    {
      "cell_type": "markdown",
      "source": [
        "Question-6  Describe the five types of inheritance in Python. Provide a simple example of multiple inheritance.\n",
        "\n",
        "\n",
        "Answer-\n",
        "Here are the five types of inheritance in Python:\n",
        "\n",
        "1. Single Inheritance\n",
        "In single inheritance, a child class inherits from only one parent class.\n",
        "\n",
        "2. Multiple Inheritance\n",
        "In multiple inheritance, a child class can inherit from multiple parent classes.\n",
        "\n",
        "3. Multilevel Inheritance\n",
        "In multilevel inheritance, a child class inherits from a parent class, which in turn inherits from another parent class.\n",
        "\n",
        "4. Hierarchical Inheritance\n",
        "In hierarchical inheritance, multiple child classes inherit from the same parent class.\n",
        "\n",
        "5. Hybrid Inheritance\n",
        "Hybrid inheritance is a combination of multiple inheritance and multilevel inheritance.\n",
        "\n",
        "Here's an example of multiple inheritance:\n",
        "\n",
        "\n"
      ],
      "metadata": {
        "id": "rHEAOb7x-Ykv"
      }
    },
    {
      "cell_type": "code",
      "source": [
        "class Animal:\n",
        "    def __init__(self, name):\n",
        "        self.name = name\n",
        "\n",
        "    def eat(self):\n",
        "        print(f\"{self.name} is eating.\")\n",
        "\n",
        "class Mammal:\n",
        "    def __init__(self, hair_color):\n",
        "        self.hair_color = hair_color\n",
        "\n",
        "    def walk(self):\n",
        "        print(\"The mammal is walking.\")\n",
        "\n",
        "class Dog(Animal, Mammal):\n",
        "    def __init__(self, name, hair_color):\n",
        "        Animal.__init__(self, name)\n",
        "        Mammal.__init__(self, hair_color)\n",
        "\n",
        "    def bark(self):\n",
        "        print(\"The dog is barking.\")\n",
        "\n",
        "my_dog = Dog(\"Rex\", \"Brown\")\n",
        "my_dog.eat()\n",
        "my_dog.walk()\n",
        "my_dog.bark()\n"
      ],
      "metadata": {
        "colab": {
          "base_uri": "https://localhost:8080/",
          "height": 0
        },
        "id": "U38tCd-R-AQr",
        "outputId": "729bcbb2-4a57-47d2-86a4-345d9465e8a2"
      },
      "execution_count": 5,
      "outputs": [
        {
          "output_type": "stream",
          "name": "stdout",
          "text": [
            "Rex is eating.\n",
            "The mammal is walking.\n",
            "The dog is barking.\n"
          ]
        }
      ]
    },
    {
      "cell_type": "markdown",
      "source": [
        "Question-7 What is the Method Resolution Order (MRO) in Python? How can you retrieve it programmatically?\n",
        "\n",
        "\n",
        "Answer-\n",
        "In Python, the Method Resolution Order (MRO) is the order in which Python searches for methods in a class inheritance hierarchy. When a method is called on an object, Python searches for the method in the object's class, then in its parent classes, and so on.\n",
        "\n",
        "Python uses a technique called C3 Linearization to resolve the MRO. This algorithm ensures that the MRO is consistent and predictable, even in the presence of multiple inheritance.\n",
        "\n",
        "To retrieve the MRO programmatically, you can use the mro() method, which is available on all classes. Here's an example:\n",
        "\n",
        "\n",
        "\n",
        "\n",
        "\n",
        "\n",
        "\n",
        "print(C.__mro__)  # Output: (__main__.C, __main__.B, __main__.A, object)\n"
      ],
      "metadata": {
        "id": "sVwkrbTl-3Ju"
      }
    },
    {
      "cell_type": "code",
      "source": [
        "class A:\n",
        "    pass\n",
        "\n",
        "class B(A):\n",
        "    pass\n",
        "\n",
        "class C(B):\n",
        "    pass\n",
        "\n",
        "print(C.mro())\n"
      ],
      "metadata": {
        "colab": {
          "base_uri": "https://localhost:8080/",
          "height": 0
        },
        "id": "nbDGCsOG-yZc",
        "outputId": "7cf9f8af-3054-4373-c03b-f88ede91ddf1"
      },
      "execution_count": 6,
      "outputs": [
        {
          "output_type": "stream",
          "name": "stdout",
          "text": [
            "[<class '__main__.C'>, <class '__main__.B'>, <class '__main__.A'>, <class 'object'>]\n"
          ]
        }
      ]
    },
    {
      "cell_type": "markdown",
      "source": [
        "In this example, the mro() method returns a list of classes in the MRO of class C. The list includes class C itself, its parent class B, its grandparent class A, and the ultimate parent class object.\n",
        "\n",
        "Alternatively, you can use the __mro__ attribute to access the MRO:"
      ],
      "metadata": {
        "id": "kCQ5_PCD_NiN"
      }
    },
    {
      "cell_type": "code",
      "source": [
        "print(C.__mro__)  # Output: (__main__.C, __main__.B, __main__.A, object)\n"
      ],
      "metadata": {
        "colab": {
          "base_uri": "https://localhost:8080/",
          "height": 0
        },
        "id": "ygR1qTy2_KIx",
        "outputId": "05b2ab70-7942-47ab-f162-bf288e82c045"
      },
      "execution_count": 7,
      "outputs": [
        {
          "output_type": "stream",
          "name": "stdout",
          "text": [
            "(<class '__main__.C'>, <class '__main__.B'>, <class '__main__.A'>, <class 'object'>)\n"
          ]
        }
      ]
    },
    {
      "cell_type": "markdown",
      "source": [
        "Question-8 Create an abstract base class \"Shape' with an abstract method area()\". Then create two subclasses \"Circle\" and \"Rectangle that implement the area() method.\n",
        "\n",
        "Answer-\n",
        "\n"
      ],
      "metadata": {
        "id": "lebVZ9gw_SAc"
      }
    },
    {
      "cell_type": "code",
      "source": [
        "from abc import ABC, abstractmethod\n",
        "import math\n",
        "# Abstract base class \"Shape\"\n",
        "class Shape(ABC):\n",
        "    @abstractmethod\n",
        "    def area(self):\n",
        "        pass\n",
        "\n",
        "# Subclass \"Circle\"\n",
        "class Circle(Shape):\n",
        "    def __init__(self, radius):\n",
        "        self.radius = radius\n",
        "\n",
        "    def area(self):\n",
        "        return math.pi * (self.radius ** 2)\n",
        "\n",
        "# Subclass \"Rectangle\"\n",
        "class Rectangle(Shape):\n",
        "    def __init__(self, width, height):\n",
        "        self.width = width\n",
        "        self.height = height\n",
        "\n",
        "    def area(self):\n",
        "        return self.width * self.height\n",
        "\n",
        "# Example usage\n",
        "circle = Circle(5)\n",
        "print(f\"Circle area: {circle.area():.2f}\")\n",
        "\n",
        "rectangle = Rectangle(4, 6)\n",
        "print(f\"Rectangle area: {rectangle.area()}\")"
      ],
      "metadata": {
        "colab": {
          "base_uri": "https://localhost:8080/",
          "height": 0
        },
        "id": "i34TxIl2_RAs",
        "outputId": "3699e9f4-84da-4c4d-ee66-778e59a005a0"
      },
      "execution_count": 9,
      "outputs": [
        {
          "output_type": "stream",
          "name": "stdout",
          "text": [
            "Circle area: 78.54\n",
            "Rectangle area: 24\n"
          ]
        }
      ]
    },
    {
      "cell_type": "markdown",
      "source": [
        "In this example:\n",
        "\n",
        "- We define an abstract base class Shape with an abstract method area().\n",
        "- We create two subclasses Circle and Rectangle that inherit from Shape.\n",
        "- Each subclass implements the area() method according to its geometric formula.\n",
        "- We demonstrate the usage of these classes by creating instances of Circle and Rectangle and calculating their areas."
      ],
      "metadata": {
        "id": "jFVUmOXr_wSz"
      }
    },
    {
      "cell_type": "markdown",
      "source": [
        "Question-9  Demonstrate polymorphism by creating a function that can work with different shape objects to calculate and print their areas.\n",
        "\n",
        "Answer-\n",
        "\n",
        "Here's an example demonstration of polymorphism in Python:\n",
        "\n",
        "\n",
        "\n"
      ],
      "metadata": {
        "id": "CD9pbzzcAF2q"
      }
    },
    {
      "cell_type": "code",
      "source": [
        "from abc import ABC, abstractmethod\n",
        "import math\n",
        "\n",
        "# Abstract base class \"Shape\"\n",
        "class Shape(ABC):\n",
        "    @abstractmethod\n",
        "    def area(self):\n",
        "        pass\n",
        "\n",
        "# Subclass \"Circle\"\n",
        "class Circle(Shape):\n",
        "    def __init__(self, radius):\n",
        "        self.radius = radius\n",
        "\n",
        "    def area(self):\n",
        "        return math.pi * (self.radius ** 2)\n",
        "\n",
        "# Subclass \"Rectangle\"\n",
        "class Rectangle(Shape):\n",
        "    def __init__(self, width, height):\n",
        "        self.width = width\n",
        "        self.height = height\n",
        "\n",
        "    def area(self):\n",
        "        return self.width * self.height\n",
        "\n",
        "# Subclass \"Triangle\"\n",
        "class Triangle(Shape):\n",
        "    def __init__(self, base, height):\n",
        "        self.base = base\n",
        "        self.height = height\n",
        "\n",
        "    def area(self):\n",
        "        return 0.5 * self.base * self.height\n",
        "\n",
        "# Polymorphic function to calculate and print shape areas\n",
        "def print_shape_areas(shapes):\n",
        "    for shape in shapes:\n",
        "        print(f\"Area of {type(shape).__name__}: {shape.area():.2f}\")\n",
        "\n",
        "# Example usage\n",
        "circle = Circle(5)\n",
        "rectangle = Rectangle(4, 6)\n",
        "triangle = Triangle(3, 7)\n",
        "\n",
        "shapes = [circle, rectangle, triangle]\n",
        "print_shape_areas(shapes)\n",
        "\n"
      ],
      "metadata": {
        "colab": {
          "base_uri": "https://localhost:8080/",
          "height": 0
        },
        "id": "ws_HRmCM_qYs",
        "outputId": "63e8b62e-ddec-4aa0-b673-68316d3badbe"
      },
      "execution_count": 10,
      "outputs": [
        {
          "output_type": "stream",
          "name": "stdout",
          "text": [
            "Area of Circle: 78.54\n",
            "Area of Rectangle: 24.00\n",
            "Area of Triangle: 10.50\n"
          ]
        }
      ]
    },
    {
      "cell_type": "markdown",
      "source": [
        "In this example:\n",
        "\n",
        "- We define an abstract base class Shape with an abstract method area().\n",
        "- We create three subclasses Circle, Rectangle, and Triangle that inherit from Shape and implement the area() method.\n",
        "- We define a polymorphic function print_shape_areas() that takes a list of shapes as input and calculates and prints their areas using the area() method.\n",
        "- We demonstrate the usage of this function by creating instances of different shape classes and passing them to the print_shape_areas() function.\n",
        "\n",
        "This example showcases polymorphism, as the print_shape_areas() function works with different shape objects without knowing their specific class types at compile time."
      ],
      "metadata": {
        "id": "PZeC80boAxRs"
      }
    },
    {
      "cell_type": "markdown",
      "source": [
        "Question-10  Implement encapsulation in a \"BankAccount' class with private attributes for balance and account_number', include methods for deposit, withdrawal, and balance inquiry.\n",
        "\n",
        "\n",
        "Answer-\n",
        "Here's an example implementation of encapsulation in a BankAccount class:\n",
        "\n",
        "\n",
        "\n"
      ],
      "metadata": {
        "id": "fdlSgEtzA0Gg"
      }
    },
    {
      "cell_type": "code",
      "source": [
        "class BankAccount:\n",
        "    def __init__(self, account_number, initial_balance):\n",
        "        self.__account_number = account_number\n",
        "        self.__balance = initial_balance\n",
        "\n",
        "    def deposit(self, amount):\n",
        "        if amount > 0:\n",
        "            self.__balance += amount\n",
        "            print(f\"Deposited ${amount:.2f}. New balance: ${self.__balance:.2f}\")\n",
        "        else:\n",
        "            print(\"Invalid deposit amount.\")\n",
        "\n",
        "    def withdraw(self, amount):\n",
        "        if 0 < amount <= self.__balance:\n",
        "            self.__balance -= amount\n",
        "            print(f\"Withdrew ${amount:.2f}. New balance: ${self.__balance:.2f}\")\n",
        "        elif amount <= 0:\n",
        "            print(\"Invalid withdrawal amount.\")\n",
        "        else:\n",
        "            print(\"Insufficient funds.\")\n",
        "\n",
        "    def get_balance(self):\n",
        "        return self.__balance\n",
        "\n",
        "    def get_account_number(self):\n",
        "        return self.__account_number\n",
        "\n",
        "# Example usage\n",
        "account = BankAccount(\"1234567890\", 1000.0)\n",
        "print(f\"Account Number: {account.get_account_number()}\")\n",
        "print(f\"Initial Balance: ${account.get_balance():.2f}\")\n",
        "\n",
        "account.deposit(500.0)\n",
        "account.withdraw(200.0)\n",
        "account.withdraw(2000.0)  # Insufficient funds\n",
        "\n",
        "print(f\"Final Balance: ${account.get_balance():.2f}\")\n",
        "\n",
        "\n"
      ],
      "metadata": {
        "colab": {
          "base_uri": "https://localhost:8080/",
          "height": 0
        },
        "id": "jIomE3pPAsBb",
        "outputId": "e4476671-ab75-4e33-c81a-bebfebc008ac"
      },
      "execution_count": 11,
      "outputs": [
        {
          "output_type": "stream",
          "name": "stdout",
          "text": [
            "Account Number: 1234567890\n",
            "Initial Balance: $1000.00\n",
            "Deposited $500.00. New balance: $1500.00\n",
            "Withdrew $200.00. New balance: $1300.00\n",
            "Insufficient funds.\n",
            "Final Balance: $1300.00\n"
          ]
        }
      ]
    },
    {
      "cell_type": "markdown",
      "source": [
        "In this implementation:\n",
        "\n",
        "- The BankAccount class encapsulates the account_number and balance attributes by making them private (__account_number and __balance).\n",
        "- The class provides public methods for deposit (deposit()), withdrawal (withdraw()), and balance inquiry (get_balance() and get_account_number()).\n",
        "- The deposit() and withdraw() methods modify the private balance attribute while ensuring that the operations are valid (e.g., deposit amount is positive, withdrawal amount does not exceed the balance).\n",
        "- The get_balance() and get_account_number() methods provide controlled access to the private attributes."
      ],
      "metadata": {
        "id": "nYKcClXKBPWB"
      }
    },
    {
      "cell_type": "markdown",
      "source": [
        "Question-11 Write a class that overrides the strand_add_magic methods. What will these methods allow you to do?\n",
        "\n",
        "\n",
        "Answer-Here's an example implementation of a class that overrides the __add__ and __radd__ magic methods:\n",
        "\n",
        "\n",
        "\n",
        "\n"
      ],
      "metadata": {
        "id": "U7ZxL7x2BQyv"
      }
    },
    {
      "cell_type": "code",
      "source": [
        "class MagicString:\n",
        "    def __init__(self, value):\n",
        "        self.value = value\n",
        "\n",
        "    def __add__(self, other):\n",
        "        if isinstance(other, str):\n",
        "            return MagicString(self.value + other)\n",
        "        else:\n",
        "            raise TypeError(\"Unsupported operand type for +\")\n",
        "\n",
        "    def __radd__(self, other):\n",
        "        if isinstance(other, str):\n",
        "            return MagicString(other + self.value)\n",
        "        else:\n",
        "            raise TypeError(\"Unsupported operand type for +\")\n",
        "\n",
        "    def __str__(self):\n",
        "        return self.value\n",
        "\n",
        "# Example usage\n",
        "magic_str = MagicString(\"Hello, \")\n",
        "print(magic_str + \"World!\")\n",
        "print(\"Magic \" + magic_str)"
      ],
      "metadata": {
        "colab": {
          "base_uri": "https://localhost:8080/",
          "height": 0
        },
        "id": "ISmoP5NvBLbu",
        "outputId": "c51b734e-0973-4875-8b9b-85eb9d0819d1"
      },
      "execution_count": 12,
      "outputs": [
        {
          "output_type": "stream",
          "name": "stdout",
          "text": [
            "Hello, World!\n",
            "Magic Hello, \n"
          ]
        }
      ]
    },
    {
      "cell_type": "markdown",
      "source": [
        "In this example:\n",
        "\n",
        "- The MagicString class overrides the __add__ method to support concatenation with string objects using the + operator.\n",
        "- The __radd__ method is overridden to support reversed concatenation (i.e., when the MagicString object is on the right side of the + operator).\n",
        "- The __str__ method is overridden to provide a string representation of the MagicString object.\n",
        "\n",
        "These magic methods allow you to perform string concatenation operations with MagicString objects using the + operator, making the class more intuitive and user-friendly."
      ],
      "metadata": {
        "id": "Ud8zThpBBovb"
      }
    },
    {
      "cell_type": "markdown",
      "source": [
        "Question-12  Create a decorator that measures and prints the execution time of a function.\n",
        "\n",
        "\n",
        "Answer-\n",
        "Here's an example implementation of a decorator that measures and prints the execution time of a function:\n",
        "\n",
        "\n",
        "\n",
        "\n",
        "In this example:\n",
        "\n",
        "- The timer_decorator function takes a function func as input and returns a new function wrapper.\n",
        "- The wrapper function measures the execution time of the original function func by recording the start and end times using time.time().\n",
        "- The execution time is calculated by subtracting the start time from the end time.\n",
        "- The execution time is printed to the console along with the name of the function.\n",
        "- The wraps decorator from the functools module is used to preserve the original function's metadata (e.g., name, docstring) in the wrapped function.\n",
        "- The example_function is decorated with @timer_decorator to measure its execution time."
      ],
      "metadata": {
        "id": "iCHaKLpZBpzP"
      }
    },
    {
      "cell_type": "code",
      "source": [
        "import time\n",
        "from functools import wraps\n",
        "\n",
        "def timer_decorator(func):\n",
        "    @wraps(func)\n",
        "    def wrapper(*args, **kwargs):\n",
        "        start_time = time.time()\n",
        "        result = func(*args, **kwargs)\n",
        "        end_time = time.time()\n",
        "        execution_time = end_time - start_time\n",
        "        print(f\"Function '{func.__name__}' executed in {execution_time:.4f} seconds.\")\n",
        "        return result\n",
        "    return wrapper\n",
        "\n",
        "# Example usage\n",
        "@timer_decorator\n",
        "def example_function():\n",
        "    time.sleep(1)  # Simulate some time-consuming operation\n",
        "    print(\"Example function executed.\")\n",
        "\n",
        "example_function()\n",
        "\n"
      ],
      "metadata": {
        "colab": {
          "base_uri": "https://localhost:8080/",
          "height": 0
        },
        "id": "UHmirtP5B7Nw",
        "outputId": "e2fe66ce-693d-4571-a865-c78a469542dc"
      },
      "execution_count": 14,
      "outputs": [
        {
          "output_type": "stream",
          "name": "stdout",
          "text": [
            "Example function executed.\n",
            "Function 'example_function' executed in 1.0021 seconds.\n"
          ]
        }
      ]
    },
    {
      "cell_type": "markdown",
      "source": [
        "In this example:\n",
        "\n",
        "- The timer_decorator function takes a function func as input and returns a new function wrapper.\n",
        "- The wrapper function measures the execution time of the original function func by recording the start and end times using time.time().\n",
        "- The execution time is calculated by subtracting the start time from the end time.\n",
        "- The execution time is printed to the console along with the name of the function.\n",
        "- The wraps decorator from the functools module is used to preserve the original function's metadata (e.g., name, docstring) in the wrapped function.\n",
        "- The example_function is decorated with @timer_decorator to measure its execution time."
      ],
      "metadata": {
        "id": "VzBIa6pSCHMd"
      }
    },
    {
      "cell_type": "markdown",
      "source": [
        "Question-13 Explain the concept of the Diamond Problem in multiple inheritance. How does Python resolve it?\n",
        "\n",
        "\n",
        "Answer-\n",
        "The Diamond Problem is a well-known issue in multiple inheritance, where a class inherits conflicting attributes or methods from its parent classes. This problem arises when two classes, B and C, inherit from a common base class A, and then another class D inherits from both B and C.\n",
        "\n",
        "Here's an illustration of the Diamond Problem:\n",
        "\n",
        "      A\n",
        "    /   \\\n",
        "   B     C\n",
        "    \\   /\n",
        "      D\n",
        "\n",
        "Suppose classes B and C override a method m() from class A, and class D inherits from both B and C. When D.m() is called, which implementation of m() should be used: B's or C's?\n",
        "\n",
        "Python resolves the Diamond Problem using a technique called C3 Linearization, also known as the \"Method Resolution Order\" (MRO). The MRO is a standard for resolving the order of inheritance in the presence of multiple inheritance.\n",
        "\n",
        "Here's how Python's MRO resolves the Diamond Problem:\n",
        "\n",
        "1. List the classes in the inheritance order: D, B, C, A, object.\n",
        "2. Remove any duplicate classes: D, B, C, A, object.\n",
        "3. If a class has already been visited, skip it: No changes.\n",
        "4. The resulting list is the MRO: D, B, C, A, object.\n",
        "\n",
        "When Python looks for a method or attribute in class D, it searches the classes in the MRO order. In this case, Python would look for m() in the following order:\n",
        "\n",
        "1. D (class D itself)\n",
        "2. B (class D's first parent)\n",
        "3. C (class D's second parent)\n",
        "4. A (the common base class)\n",
        "5. object (the ultimate base class)\n",
        "\n",
        "If Python finds m() in class B, it will use that implementation. If not, it will continue searching in the next classes.\n",
        "\n",
        "Here's an example code snippet demonstrating Python's MRO:\n",
        "\n",
        "\n",
        "\n",
        "\n"
      ],
      "metadata": {
        "id": "h84IyuzUCLUv"
      }
    },
    {
      "cell_type": "code",
      "source": [
        "class A:\n",
        "    def m(self):\n",
        "        print(\"A's implementation\")\n",
        "\n",
        "class B(A):\n",
        "    def m(self):\n",
        "        print(\"B's implementation\")\n",
        "\n",
        "class C(A):\n",
        "    def m(self):\n",
        "        print(\"C's implementation\")\n",
        "\n",
        "class D(B, C):\n",
        "    pass\n",
        "\n",
        "d = D()\n",
        "d.m()\n"
      ],
      "metadata": {
        "colab": {
          "base_uri": "https://localhost:8080/",
          "height": 0
        },
        "id": "6zQdmZi6B8Fc",
        "outputId": "69056299-5be3-4dc1-bfb5-af76896ad1c2"
      },
      "execution_count": 15,
      "outputs": [
        {
          "output_type": "stream",
          "name": "stdout",
          "text": [
            "B's implementation\n"
          ]
        }
      ]
    },
    {
      "cell_type": "markdown",
      "source": [
        "In this example, class D inherits from both B and C. When d.m() is called, Python uses the MRO to resolve the method call. Since B is listed before C in the MRO, Python uses B's implementation of m()."
      ],
      "metadata": {
        "id": "TzK87xNHCzNK"
      }
    },
    {
      "cell_type": "markdown",
      "source": [
        "Question-14  Write a class method that keeps track of the number of instances created from a class.\n",
        "\n",
        "Answer- Here's an example implementation of a class that keeps track of the number of instances created:\n",
        "\n",
        "\n",
        "\n",
        "\n"
      ],
      "metadata": {
        "id": "c-TsIPHoC0cq"
      }
    },
    {
      "cell_type": "code",
      "source": [
        "class InstanceTracker:\n",
        "    num_instances = 0\n",
        "\n",
        "    def __init__(self):\n",
        "        InstanceTracker.num_instances += 1\n",
        "\n",
        "    @classmethod\n",
        "    def get_num_instances(cls):\n",
        "        return cls.num_instances\n",
        "\n",
        "# Example usage\n",
        "print(InstanceTracker.get_num_instances())\n",
        "\n",
        "instance1 = InstanceTracker()\n",
        "instance2 = InstanceTracker()\n",
        "instance3 = InstanceTracker()\n",
        "\n",
        "print(InstanceTracker.get_num_instances())\n"
      ],
      "metadata": {
        "colab": {
          "base_uri": "https://localhost:8080/",
          "height": 0
        },
        "id": "DTdF7r1YCuKP",
        "outputId": "8b6ddf9b-1174-4c47-ee49-6dbc67752559"
      },
      "execution_count": 16,
      "outputs": [
        {
          "output_type": "stream",
          "name": "stdout",
          "text": [
            "0\n",
            "3\n"
          ]
        }
      ]
    },
    {
      "cell_type": "markdown",
      "source": [
        "In this example:\n",
        "\n",
        "- The InstanceTracker class has a class-level attribute num_instances initialized to 0.\n",
        "- The __init__ method increments the num_instances attribute each time a new instance is created.\n",
        "- The get_num_instances class method returns the current value of num_instances.\n",
        "- In the example usage, we create three instances of InstanceTracker and print the number of instances before and after creation."
      ],
      "metadata": {
        "id": "-S2BNFkIDNJ8"
      }
    },
    {
      "cell_type": "markdown",
      "source": [
        "Question-15  Implement a static method in a class that checks if a given year is a leap year.\n",
        "\n",
        "\n",
        "Answer-\n",
        "Here's an example implementation of a class with a static method that checks if a given year is a leap year:\n",
        "\n",
        "\n",
        "\n",
        "\n"
      ],
      "metadata": {
        "id": "izxkFIcsDPjH"
      }
    },
    {
      "cell_type": "code",
      "source": [
        "class LeapYearChecker:\n",
        "    @staticmethod\n",
        "    def is_leap_year(year):\n",
        "        return year % 4 == 0 and (year % 100 != 0 or year % 400 == 0)\n",
        "\n",
        "# Example usage\n",
        "print(LeapYearChecker.is_leap_year(2020))\n",
        "print(LeapYearChecker.is_leap_year(2019))\n"
      ],
      "metadata": {
        "colab": {
          "base_uri": "https://localhost:8080/",
          "height": 0
        },
        "id": "jFNfCwIJDI0I",
        "outputId": "b4426ec4-ac3c-4457-de4f-e4ab0274b550"
      },
      "execution_count": 17,
      "outputs": [
        {
          "output_type": "stream",
          "name": "stdout",
          "text": [
            "True\n",
            "False\n"
          ]
        }
      ]
    },
    {
      "cell_type": "markdown",
      "source": [
        "In this example:\n",
        "\n",
        "- The LeapYearChecker class has a static method is_leap_year that takes a year parameter.\n",
        "- The is_leap_year method checks if the given year is a leap year using the standard leap year rules:\n",
        "\n",
        "    - The year must be evenly divisible by 4.\n",
        "    - If the year is a century year (i.e., it is divisible by 100), it must also be divisible by 400.\n",
        "- In the example usage, we call the is_leap_year method with different year values and print the results."
      ],
      "metadata": {
        "id": "LPWNbK_ND4GE"
      }
    }
  ]
}