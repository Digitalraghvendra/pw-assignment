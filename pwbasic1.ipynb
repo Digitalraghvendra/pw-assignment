{
  "nbformat": 4,
  "nbformat_minor": 0,
  "metadata": {
    "colab": {
      "provenance": [],
      "toc_visible": true,
      "authorship_tag": "ABX9TyNGdk9ie69GPf6jHlRSjKZY",
      "include_colab_link": true
    },
    "kernelspec": {
      "name": "python3",
      "display_name": "Python 3"
    },
    "language_info": {
      "name": "python"
    }
  },
  "cells": [
    {
      "cell_type": "markdown",
      "metadata": {
        "id": "view-in-github",
        "colab_type": "text"
      },
      "source": [
        "<a href=\"https://colab.research.google.com/github/Digitalraghvendra/pw-assignment/blob/main/pwbasic1.ipynb\" target=\"_parent\"><img src=\"https://colab.research.google.com/assets/colab-badge.svg\" alt=\"Open In Colab\"/></a>"
      ]
    },
    {
      "cell_type": "markdown",
      "source": [
        "# Python basic assignment"
      ],
      "metadata": {
        "id": "n8-9f1T5tEdQ"
      }
    },
    {
      "cell_type": "markdown",
      "source": [
        "Ques 1 -- Explain the key features of Python that make it a popular choice for programming ?\n",
        "Answer -- Python has become one of the most popular programming languages due to several key features that make it both powerful and user-friendly. Main Reason are described below\n",
        "1. Easy to Learn and Use\n",
        "2. Versatile and Flexible\n",
        "3. Large number of Library\n",
        "4. OOPs Function\n",
        "available\n",
        "5. open-source programming language\n",
        "6. Wide Range of Third-Party Libraries and Frameworks\n",
        "7. Easily Intergrated with other languag\n",
        "\n",
        "Ques 2 -- Describe the role of predefined keywords in Python and provide examples of how they are used in a program ?\n",
        "Answer -- Predefined keywords in Python are reserved words that have special meanings in the language. They are fundamental parts of Python’s syntax. Since these keywords are reserved, they cannot be used as variable names, function names, or identifiers. Role of these keywords\n",
        "--\n",
        "1. Exception Handling\n",
        "2. Data Types and Structures\n",
        "3. Function Definition\n",
        "4. Control Flow\n",
        "5. Basic support to language Example -- if else keyword is used to control flow of statement"
      ],
      "metadata": {
        "id": "DqO0ae6xpdcV"
      }
    },
    {
      "cell_type": "markdown",
      "source": [
        "Ques 3 -- Compare and contrast mutable and immutable objects in Python with examples ?\n",
        "Answer -- # MUTABLE OBJECTS -\n",
        "* Definition : Objects whose values can be changed.\n",
        "* Method for upadte : Methods exist to modify content directly * Examples : Lists , Dictionaries , sets etc.\n",
        "* Usage : Useful when data needs to be modified frequently. # IMMUTABLE OBJECTS - *\n",
        "Definiton : Objects whose values cannot be changed once created.\n",
        "* Modification : Cannot modify content; new object creation is required.\n",
        "* Examples : strings, tuples, numbers (int, float), frozensets * Usage : useful for fixed data that should not change. Hence , Mutable Objects allow\n",
        "modification after creation, which can be useful for data structures that need frequent updates. Immutable Objects provide stability and can lead to fewer bugs when the data should not be changed.\n",
        "\n",
        "Ques 4 -- Discuss the different types of operators in Python and provide examples of how they are used ?\n",
        "Answer -- Arithmetic Operators-- Arithmetic operators are used to perform mathematical operations between numerical values.\n",
        "Comparison (Relational) Operators -- Comparison operators compare the values on either side of them and determine the relation between them. They return\n",
        "Boolean values (True or False).\n",
        "Logical Operators -- Logical operators are used to combine conditional statements. They evaluate expressions to Boolean values.\n",
        "Bitwise Operators -- Bitwise operators perform operations on binary representations of integers.\n",
        "Assignment Operators --\n",
        "Assignment operators are used to assign values to variables. They can also perform operations and assign the result.\n",
        "Membership Operators -- Membership operators are used to test whether a sequence (like a string, list, or tuple) contains a specified value. Identity Operators --\n",
        "Identity operators compare the memory locations of two objects. They are used to check if two variables reference the same object in memory.."
      ],
      "metadata": {
        "id": "O71yEetlqZpG"
      }
    },
    {
      "cell_type": "code",
      "source": [
        "#EXAMPLE --\n",
        "a=3\n",
        "b=2\n",
        "#COMPARISON OPERATOR\n",
        "print(a==b)\n",
        "#LOGICAL OPERATOR\n",
        "print(True and True)\n",
        "#Membership operator\n",
        "d=\"pwskills\"\n",
        "print(\"p\" in d)\n",
        "#identity operator\n",
        "print(a is b)\n",
        "#bitwise operator\n",
        "print(10&7)\n",
        "print(bin(10))\n",
        "print(3 | 5)\n",
        "print(~99)\n",
        "print(5^3)"
      ],
      "metadata": {
        "colab": {
          "base_uri": "https://localhost:8080/"
        },
        "id": "9l6Q3uXBqff7",
        "outputId": "10cfe748-f844-4d36-cf0f-d47b8208a4cc"
      },
      "execution_count": 8,
      "outputs": [
        {
          "output_type": "stream",
          "name": "stdout",
          "text": [
            "False\n",
            "True\n",
            "True\n",
            "False\n",
            "2\n",
            "0b1010\n",
            "7\n",
            "-100\n",
            "6\n"
          ]
        }
      ]
    },
    {
      "cell_type": "markdown",
      "source": [
        "Ques 5 -- Explain the concept of type casting in Python with examples ?\n",
        "Answer -- Type casting in Python is the process of converting a variable from one data type to another. This is useful when you need to perform operations on variables of different types, such as combining a string with a number or performing arithmetic operations on values that were\n",
        "initially stored as strings.\n",
        "Python is of two main types:\n",
        "Implicit Type Casting: Python automatically converts one data type to another without user intervention. Explicit Type Casting: The programmer manually converts one data type to another using casting functions."
      ],
      "metadata": {
        "id": "U3WJ_uXhq-y3"
      }
    },
    {
      "cell_type": "code",
      "source": [
        "# Example of Implicit -\n",
        "num_int = 10\n",
        "num_float = 2.5\n",
        "result = num_int + num_float\n",
        "print(result)\n",
        "print(type(result))"
      ],
      "metadata": {
        "colab": {
          "base_uri": "https://localhost:8080/"
        },
        "id": "vBTTVl7ArGAr",
        "outputId": "a9185af9-6c06-49bd-d094-876d222cd935"
      },
      "execution_count": 9,
      "outputs": [
        {
          "output_type": "stream",
          "name": "stdout",
          "text": [
            "12.5\n",
            "<class 'float'>\n"
          ]
        }
      ]
    },
    {
      "cell_type": "markdown",
      "source": [
        "Ques 6 -- How do conditional statements work in Python? Illustrate with examples ?\n",
        "Answer -- Conditional statements in Python are used to execute certain blocks of code based on specified conditions. These conditions evaluate to True or False, determining which code block will run. Python supports if, elif (short for \"else if\"), and else statements for creating\n",
        "conditionals.\n",
        "Types of Conditional Statements in Python if Statement: Executes a block of code if a condition is True. if-else Statement: Executes one block of code if a condition is True and another block if it is False. if-elif-else Statement: Checks multiple conditions and executes the\n",
        "block of code for the first condition that is True. Nested if Statements: Places one if statement within another for more complex conditions.\n",
        "\n",
        "Example Below -"
      ],
      "metadata": {
        "id": "r_GoLVA4rM-O"
      }
    },
    {
      "cell_type": "code",
      "source": [
        "age = 18\n",
        "if age >= 18:\n",
        "  print(\"You are eligible to vote.\")"
      ],
      "metadata": {
        "colab": {
          "base_uri": "https://localhost:8080/"
        },
        "id": "cddMqrJbrTVU",
        "outputId": "f01d7073-7d4c-4561-99f6-12ceff2759f5"
      },
      "execution_count": 11,
      "outputs": [
        {
          "output_type": "stream",
          "name": "stdout",
          "text": [
            "You are eligible to vote.\n"
          ]
        }
      ]
    },
    {
      "cell_type": "markdown",
      "source": [
        "Ques 7 -- Describe the different types of loops in Python and their use cases with examples ?\n",
        "Answer -- Python provides two main types of loops for iterating : for loops and while loops\n",
        "1. For loops --The for loop in Python is used to iterate over a sequence (like a list, tuple, string, or range) and perform actions on each element in that sequence. It’s ideal when the number of iterations is known or when iterating over a fixed collection. Use Case -- * Iterating over\n",
        "elements in a list, tuple, dictionary, or set * Executing a block of code a fixed number of times * Traversing strings character by character Syntax -- for item in sequence: # Code\n",
        "2. While loops -- The while loop repeatedly executes a block of code as long as a specified condition is True. It’s useful when the number of iterations is not predetermined, and you want to loop until a certain condition is met. Use Case -- * Performing an action until a specific\n",
        "condition changes * Waiting for user input or external events * Looping until a variable reaches a desired state Syntax -- while condition: # Code\n"
      ],
      "metadata": {
        "id": "lsH340BTrd9X"
      }
    },
    {
      "cell_type": "code",
      "source": [
        "# Example of for loop\n",
        "word = \"Python\"\n",
        "for letter in word:\n",
        "  print(letter)"
      ],
      "metadata": {
        "colab": {
          "base_uri": "https://localhost:8080/"
        },
        "id": "MWdrf058ri9k",
        "outputId": "9aecba6e-fa26-4e61-c97c-2f12bd1502ca"
      },
      "execution_count": 12,
      "outputs": [
        {
          "output_type": "stream",
          "name": "stdout",
          "text": [
            "P\n",
            "y\n",
            "t\n",
            "h\n",
            "o\n",
            "n\n"
          ]
        }
      ]
    },
    {
      "cell_type": "code",
      "source": [
        "# Example of While loop\n",
        "count = 1\n",
        "while count <= 5:\n",
        "  print(\"Count:\", count)\n",
        "  count += 1"
      ],
      "metadata": {
        "colab": {
          "base_uri": "https://localhost:8080/"
        },
        "id": "qEXwR8QWrm5O",
        "outputId": "f788adaf-434a-4a79-954e-b44208e4e1fd"
      },
      "execution_count": 14,
      "outputs": [
        {
          "output_type": "stream",
          "name": "stdout",
          "text": [
            "Count: 1\n",
            "Count: 2\n",
            "Count: 3\n",
            "Count: 4\n",
            "Count: 5\n"
          ]
        }
      ]
    }
  ]
}